{
 "cells": [
  {
   "cell_type": "markdown",
   "id": "discrete-bathroom",
   "metadata": {},
   "source": [
    "#### This is a notebook for learning Generalised Least Squares (GLS) regression and Weighted Least Squares regression (WLS)\n",
    "GLS is a technique for estimating unknown parameters in a LR model when there is a certain degree of correlation between the residuals in a regression model. \n",
    "https://en.wikipedia.org/wiki/Generalized_least_squares\n",
    "\n",
    "WLS is a generalisation of OLS and LR in which knowledge of the variance of observations is incorporated into the regression.\n",
    "https://en.wikipedia.org/wiki/Weighted_least_squares"
   ]
  },
  {
   "cell_type": "code",
   "execution_count": 34,
   "id": "functional-australian",
   "metadata": {},
   "outputs": [],
   "source": [
    "## Packages\n",
    "import pandas as pd\n",
    "import numpy as np\n",
    "import statsmodels.api as sm\n",
    "from statsmodels.sandbox.regression.predstd import wls_prediction_std\n",
    "from sklearn.preprocessing import Normalizer, StandardScaler\n",
    "from sklearn.model_selection import train_test_split\n",
    "import matplotlib.pyplot as plt\n",
    "import seaborn as sns\n",
    "import cvxopt\n",
    "from scipy import stats\n",
    "from statsmodels.iolib.table import SimpleTable, default_txt_fmt\n",
    "np.random.seed(1024)\n",
    "%matplotlib inline"
   ]
  },
  {
   "cell_type": "code",
   "execution_count": 14,
   "id": "pleased-technical",
   "metadata": {},
   "outputs": [],
   "source": [
    "data = sm.datasets.longley.load()\n",
    "data.exog = sm.add_constant(data.exog)\n",
    "data.exog = pd.DataFrame(data.exog, columns = ['const','GNPDEFL','GNP','UNEMP','ARMED','POP','YEAR'])\n",
    "# for this the longely time series dataset is used and assumed to be heteroskedastic. \n",
    "# We can define the sigma and use it to give a GLS model."
   ]
  },
  {
   "cell_type": "code",
   "execution_count": 15,
   "id": "tracked-hormone",
   "metadata": {},
   "outputs": [],
   "source": [
    "## obtaining the residuals\n",
    "ols_resid = sm.OLS(data.endog, data.exog).fit().resid"
   ]
  },
  {
   "cell_type": "code",
   "execution_count": 16,
   "id": "plain-commons",
   "metadata": {},
   "outputs": [
    {
     "data": {
      "text/plain": [
       "0     267.340030\n",
       "1     -94.013942\n",
       "2      46.287168\n",
       "3    -410.114622\n",
       "4     309.714591\n",
       "5    -249.311215\n",
       "6    -164.048956\n",
       "7     -13.180357\n",
       "8      14.304773\n",
       "9     455.394095\n",
       "10    -17.268927\n",
       "11    -39.055042\n",
       "12   -155.549974\n",
       "13    -85.671308\n",
       "14    341.931514\n",
       "15   -206.757825\n",
       "dtype: float64"
      ]
     },
     "execution_count": 16,
     "metadata": {},
     "output_type": "execute_result"
    }
   ],
   "source": [
    "ols_resid"
   ]
  },
  {
   "cell_type": "code",
   "execution_count": 21,
   "id": "breathing-tactics",
   "metadata": {},
   "outputs": [
    {
     "name": "stdout",
     "output_type": "stream",
     "text": [
      "-1.4390229839791866\n",
      "0.17378444788658856\n"
     ]
    }
   ],
   "source": [
    "## fitting a model based on the residuals\n",
    "resid_fit = sm.OLS(\n",
    "    np.asarray(ols_resid)[1:], sm.add_constant(np.asarray(ols_resid)[:-1])).fit()\n",
    "print(resid_fit.tvalues[1])\n",
    "print(resid_fit.pvalues[1])"
   ]
  },
  {
   "cell_type": "markdown",
   "id": "relative-lodging",
   "metadata": {},
   "source": [
    "We do not have evidence that the errors follow an AR(1) process but we continue. An AR(1) process means that near-neighbours have a stronger relation so we can give this structure by using a toeplitz matrix."
   ]
  },
  {
   "cell_type": "code",
   "execution_count": 22,
   "id": "lonely-equity",
   "metadata": {},
   "outputs": [
    {
     "data": {
      "text/plain": [
       "array([[0, 1, 2, 3, 4],\n",
       "       [1, 0, 1, 2, 3],\n",
       "       [2, 1, 0, 1, 2],\n",
       "       [3, 2, 1, 0, 1],\n",
       "       [4, 3, 2, 1, 0]])"
      ]
     },
     "execution_count": 22,
     "metadata": {},
     "output_type": "execute_result"
    }
   ],
   "source": [
    "from scipy.linalg import toeplitz\n",
    "\n",
    "toeplitz(range(5))"
   ]
  },
  {
   "cell_type": "code",
   "execution_count": 29,
   "id": "innocent-huntington",
   "metadata": {},
   "outputs": [],
   "source": [
    "order = toeplitz(range(len(ols_resid)))\n",
    "# This ensures that our error covariance is actually rho**order which defines an autocorrelation structure. \n",
    "# But thie exact rho in this instance is not known so we will use a feasible GLS, which currently only has 1 experimental support."
   ]
  },
  {
   "cell_type": "code",
   "execution_count": 30,
   "id": "arbitrary-astronomy",
   "metadata": {},
   "outputs": [
    {
     "name": "stdout",
     "output_type": "stream",
     "text": [
      "                           GLSAR Regression Results                           \n",
      "==============================================================================\n",
      "Dep. Variable:                      y   R-squared:                       0.996\n",
      "Model:                          GLSAR   Adj. R-squared:                  0.992\n",
      "Method:                 Least Squares   F-statistic:                     295.2\n",
      "Date:                Tue, 19 Oct 2021   Prob (F-statistic):           6.09e-09\n",
      "Time:                        12:20:27   Log-Likelihood:                -102.04\n",
      "No. Observations:                  15   AIC:                             218.1\n",
      "Df Residuals:                       8   BIC:                             223.0\n",
      "Df Model:                           6                                         \n",
      "Covariance Type:            nonrobust                                         \n",
      "==============================================================================\n",
      "                 coef    std err          t      P>|t|      [0.025      0.975]\n",
      "------------------------------------------------------------------------------\n",
      "const      -3.468e+06   8.72e+05     -3.979      0.004   -5.48e+06   -1.46e+06\n",
      "GNPDEFL       34.5568     84.734      0.408      0.694    -160.840     229.953\n",
      "GNP           -0.0343      0.033     -1.047      0.326      -0.110       0.041\n",
      "UNEMP         -1.9621      0.481     -4.083      0.004      -3.070      -0.854\n",
      "ARMED         -1.0020      0.211     -4.740      0.001      -1.489      -0.515\n",
      "POP           -0.0978      0.225     -0.435      0.675      -0.616       0.421\n",
      "YEAR        1823.1829    445.829      4.089      0.003     795.100    2851.266\n",
      "==============================================================================\n",
      "Omnibus:                        1.960   Durbin-Watson:                   2.554\n",
      "Prob(Omnibus):                  0.375   Jarque-Bera (JB):                1.423\n",
      "Skew:                           0.713   Prob(JB):                        0.491\n",
      "Kurtosis:                       2.508   Cond. No.                     4.80e+09\n",
      "==============================================================================\n",
      "\n",
      "Notes:\n",
      "[1] Standard Errors assume that the covariance matrix of the errors is correctly specified.\n",
      "[2] The condition number is large, 4.8e+09. This might indicate that there are\n",
      "strong multicollinearity or other numerical problems.\n"
     ]
    },
    {
     "name": "stderr",
     "output_type": "stream",
     "text": [
      "C:\\Users\\darre\\Anaconda3\\lib\\site-packages\\scipy\\stats\\stats.py:1604: UserWarning: kurtosistest only valid for n>=20 ... continuing anyway, n=15\n",
      "  \"anyway, n=%i\" % int(n))\n"
     ]
    }
   ],
   "source": [
    "# A GLSAR model with one lag will be used\n",
    "glsar_model = sm.GLSAR(data.endog, data.exog, 1)\n",
    "glsar_results = glsar_model.iterative_fit(1)\n",
    "print(glsar_results.summary())"
   ]
  },
  {
   "cell_type": "code",
   "execution_count": 33,
   "id": "hydraulic-garlic",
   "metadata": {},
   "outputs": [
    {
     "name": "stdout",
     "output_type": "stream",
     "text": [
      "const     -3.467961e+06\n",
      "GNPDEFL    3.455678e+01\n",
      "GNP       -3.434101e-02\n",
      "UNEMP     -1.962144e+00\n",
      "ARMED     -1.001973e+00\n",
      "POP       -9.780460e-02\n",
      "YEAR       1.823183e+03\n",
      "dtype: float64\n",
      "const      871584.051696\n",
      "GNPDEFL        84.733715\n",
      "GNP             0.032803\n",
      "UNEMP           0.480545\n",
      "ARMED           0.211384\n",
      "POP             0.224774\n",
      "YEAR          445.828748\n",
      "dtype: float64\n"
     ]
    }
   ],
   "source": [
    "print(glsar_results.params)\n",
    "print(glsar_results.bse) ## standard error"
   ]
  },
  {
   "cell_type": "markdown",
   "id": "freelance-publicity",
   "metadata": {},
   "source": [
    "#### Weighted least squares regression\n",
    "https://www.statsmodels.org/stable/examples/notebooks/generated/wls.html\n",
    "\n",
    "Model assumptions:\n",
    "Misspecification: true model is quadratic, estimate only linear\n",
    "Independent noise/error term\n",
    "Two groups for error variance, low and high variance groups"
   ]
  },
  {
   "cell_type": "code",
   "execution_count": 61,
   "id": "handmade-medicare",
   "metadata": {},
   "outputs": [],
   "source": [
    "nsample = 50\n",
    "x = np.linspace(0, 20, nsample) # returns evenly spaced numbers over the range\n",
    "X = np.column_stack((x, (x-5) **2)) # stack 1-D arrays as columns into a 2-D array. but remains 50 in len\n",
    "X = sm.add_constant(X) ## adds 1 to the front of each array\n",
    "beta = [5.0, 0.5, -0.01]\n",
    "sig = 0.5\n",
    "w = np.ones(nsample)\n",
    "w[nsample * 6 // 10 :] = 3\n",
    "y_true = np.dot(X, beta)\n",
    "e = np.random.normal(size = nsample)\n",
    "y = y_true + sig * w * e\n",
    "X = X[: , [0, 1]]"
   ]
  },
  {
   "cell_type": "code",
   "execution_count": 63,
   "id": "recent-backup",
   "metadata": {},
   "outputs": [
    {
     "name": "stdout",
     "output_type": "stream",
     "text": [
      "                            WLS Regression Results                            \n",
      "==============================================================================\n",
      "Dep. Variable:                      y   R-squared:                       0.902\n",
      "Model:                            WLS   Adj. R-squared:                  0.900\n",
      "Method:                 Least Squares   F-statistic:                     440.8\n",
      "Date:                Tue, 19 Oct 2021   Prob (F-statistic):           7.78e-26\n",
      "Time:                        12:56:50   Log-Likelihood:                -56.879\n",
      "No. Observations:                  50   AIC:                             117.8\n",
      "Df Residuals:                      48   BIC:                             121.6\n",
      "Df Model:                           1                                         \n",
      "Covariance Type:            nonrobust                                         \n",
      "==============================================================================\n",
      "                 coef    std err          t      P>|t|      [0.025      0.975]\n",
      "------------------------------------------------------------------------------\n",
      "const          5.3801      0.160     33.632      0.000       5.058       5.702\n",
      "x1             0.4247      0.020     20.996      0.000       0.384       0.465\n",
      "==============================================================================\n",
      "Omnibus:                        0.762   Durbin-Watson:                   1.608\n",
      "Prob(Omnibus):                  0.683   Jarque-Bera (JB):                0.837\n",
      "Skew:                          -0.171   Prob(JB):                        0.658\n",
      "Kurtosis:                       2.467   Cond. No.                         14.6\n",
      "==============================================================================\n",
      "\n",
      "Notes:\n",
      "[1] Standard Errors assume that the covariance matrix of the errors is correctly specified.\n"
     ]
    }
   ],
   "source": [
    "# WLS knowing the true variance ratio of heteroscedasticity\n",
    "# w is the stdev of the error and WLS requires that the weights are proportional to the inverse of the error variance\n",
    "\n",
    "mod_wls = sm.WLS(y, X, weights = 1.0 / (w ** 2))\n",
    "res_wls = mod_wls.fit()\n",
    "print(res_wls.summary())"
   ]
  },
  {
   "cell_type": "code",
   "execution_count": 64,
   "id": "retained-skirt",
   "metadata": {},
   "outputs": [
    {
     "name": "stdout",
     "output_type": "stream",
     "text": [
      "[5.5859567  0.37897943]\n",
      "[5.38010958 0.42471014]\n"
     ]
    }
   ],
   "source": [
    "## estimating an OLS model for comparison\n",
    "res_ols = sm.OLS(y, X).fit()\n",
    "print(res_ols.params)\n",
    "print(res_wls.params)"
   ]
  },
  {
   "cell_type": "code",
   "execution_count": 73,
   "id": "legislative-promotion",
   "metadata": {},
   "outputs": [
    {
     "name": "stdout",
     "output_type": "stream",
     "text": [
      "=====================\n",
      "          x1   const \n",
      "---------------------\n",
      "WLS       0.16 0.0202\n",
      "OLS     0.2697 0.0232\n",
      "OLS_HC0 0.1884 0.0242\n",
      "OLS_HC1 0.1923 0.0247\n",
      "OLS_HC3  0.194 0.0249\n",
      "OLS_HC3 0.1997 0.0256\n",
      "---------------------\n"
     ]
    }
   ],
   "source": [
    "# comparing the WLS standard errors to heteroscedasticity corrected OLS std errors\n",
    "se = np.vstack(\n",
    "    [\n",
    "        [res_wls.bse], # std error\n",
    "        [res_ols.bse], # std error\n",
    "        [res_ols.HC0_se],\n",
    "        [res_ols.HC1_se],\n",
    "        [res_ols.HC2_se],\n",
    "        [res_ols.HC3_se],\n",
    "    ]\n",
    ")\n",
    "se = np.round(se, 4)\n",
    "colnames = [\"x1\", \"const\"]\n",
    "rownames = [\"WLS\", \"OLS\", \"OLS_HC0\", \"OLS_HC1\", \"OLS_HC3\", \"OLS_HC3\"]\n",
    "tabl = SimpleTable(se, colnames, rownames, txt_fmt=default_txt_fmt)\n",
    "print(tabl)"
   ]
  },
  {
   "cell_type": "code",
   "execution_count": 78,
   "id": "individual-vintage",
   "metadata": {},
   "outputs": [],
   "source": [
    "# calculates the OLS prediction interval\n",
    "covb = res_ols.cov_params()\n",
    "prediction_var = res_ols.mse_resid + (X * np.dot(covb, X.T).T).sum(1)\n",
    "prediction_std = np.sqrt(prediction_var)\n",
    "tppf = stats.t.ppf(0.975, res_ols.df_resid)"
   ]
  },
  {
   "cell_type": "code",
   "execution_count": 79,
   "id": "welsh-familiar",
   "metadata": {},
   "outputs": [],
   "source": [
    "pred_ols = res_ols.get_prediction()\n",
    "iv_l_ols = pred_ols.summary_frame()[\"obs_ci_lower\"]\n",
    "iv_u_ols = pred_ols.summary_frame()[\"obs_ci_upper\"]"
   ]
  },
  {
   "cell_type": "code",
   "execution_count": 80,
   "id": "static-celtic",
   "metadata": {},
   "outputs": [
    {
     "name": "stderr",
     "output_type": "stream",
     "text": [
      "C:\\Users\\darre\\Anaconda3\\lib\\site-packages\\matplotlib\\cbook\\__init__.py:1402: FutureWarning: Support for multi-dimensional indexing (e.g. `obj[:, None]`) is deprecated and will be removed in a future version.  Convert to a numpy array before indexing instead.\n",
      "  ndim = x[:, None].ndim\n",
      "C:\\Users\\darre\\Anaconda3\\lib\\site-packages\\matplotlib\\axes\\_base.py:278: FutureWarning: Support for multi-dimensional indexing (e.g. `obj[:, None]`) is deprecated and will be removed in a future version.  Convert to a numpy array before indexing instead.\n",
      "  y = y[:, np.newaxis]\n"
     ]
    },
    {
     "data": {
      "text/plain": [
       "<matplotlib.legend.Legend at 0x20122622b08>"
      ]
     },
     "execution_count": 80,
     "metadata": {},
     "output_type": "execute_result"
    },
    {
     "data": {
      "image/png": "[encoded data removed]",
      "text/plain": [
       "<Figure size 576x432 with 1 Axes>"
      ]
     },
     "metadata": {
      "needs_background": "light"
     },
     "output_type": "display_data"
    }
   ],
   "source": [
    "pred_wls = res_wls.get_prediction()\n",
    "iv_l = pred_wls.summary_frame()[\"obs_ci_lower\"]\n",
    "iv_u = pred_wls.summary_frame()[\"obs_ci_upper\"]\n",
    "\n",
    "fig, ax = plt.subplots(figsize=(8, 6))\n",
    "ax.plot(x, y, \"o\", label=\"Data\")\n",
    "ax.plot(x, y_true, \"b-\", label=\"True\")\n",
    "# OLS\n",
    "ax.plot(x, res_ols.fittedvalues, \"r--\")\n",
    "ax.plot(x, iv_u_ols, \"r--\", label=\"OLS\")\n",
    "ax.plot(x, iv_l_ols, \"r--\")\n",
    "# WLS\n",
    "ax.plot(x, res_wls.fittedvalues, \"g--.\")\n",
    "ax.plot(x, iv_u, \"g--\", label=\"WLS\")\n",
    "ax.plot(x, iv_l, \"g--\")\n",
    "ax.legend(loc=\"best\")"
   ]
  },
  {
   "cell_type": "markdown",
   "id": "suitable-protection",
   "metadata": {},
   "source": [
    "#### Extra notes on calculating weights for WLS ####\n",
    "If a Y is a continuous variable, the typical strategy is to use a simple OLS regression to get the residuals, and then regress one of the functions, such as the root absolute deviation, onto X. The predicted value of this function is used for the weight associated with that point. \n",
    "\n",
    "Getting your weights from the OLS model is reasonable because the OLS model is unbiased, even in the presence of heteroscedasticity. \n",
    "\n",
    "Other weight approaches include weighting the sum of the squares of the differences (residuals). \n",
    "\n",
    "https://www.azdhs.gov/documents/preparedness/state-laboratory/lab-licensure-certification/technical-resources/calibration-training/11-weighted-least-squares-regression-calib.pdf\n",
    "\n",
    "Other ways which can place more emphasis on numbers of smaller values are: \n",
    "- wi = 1 / yi or; this nearly cancels out the weighting of higher amounts\n",
    "- wi = 1 / yi^2 this causes over proportional weighting of smaller amounts\n",
    "- the residual variance - teh sum of squared differences between the predicted and observed data points\n",
    "\n",
    "\n",
    "WLS, though, is based on the idea that the weights are known exactly, which is not necessarily true. Also sensitive to outliers."
   ]
  },
  {
   "cell_type": "code",
   "execution_count": null,
   "id": "racial-italy",
   "metadata": {},
   "outputs": [],
   "source": []
  }
 ],
 "metadata": {
  "kernelspec": {
   "display_name": "Python 3.7.6 64-bit ('base': conda)",
   "language": "python",
   "name": "python37664bitbaseconda8d886d9de6f44110b9325276bac51a2f"
  },
  "language_info": {
   "codemirror_mode": {
    "name": "ipython",
    "version": 3
   },
   "file_extension": ".py",
   "mimetype": "text/x-python",
   "name": "python",
   "nbconvert_exporter": "python",
   "pygments_lexer": "ipython3",
   "version": "3.7.9"
  }
 },
 "nbformat": 4,
 "nbformat_minor": 5
}
