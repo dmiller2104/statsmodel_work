{
 "cells": [
  {
   "cell_type": "markdown",
   "id": "bronze-uganda",
   "metadata": {},
   "source": [
    "# Packages"
   ]
  },
  {
   "cell_type": "code",
   "execution_count": 90,
   "id": "current-regard",
   "metadata": {},
   "outputs": [],
   "source": [
    "import pandas as pd\n",
    "import numpy as np\n",
    "import statsmodels.api as sm\n",
    "from sklearn.preprocessing import Normalizer, StandardScaler\n",
    "from sklearn.model_selection import train_test_split\n",
    "import matplotlib.pyplot as plt\n",
    "import seaborn as sns\n",
    "import cvxopt\n",
    "%matplotlib inline"
   ]
  },
  {
   "cell_type": "markdown",
   "id": "sapphire-flower",
   "metadata": {},
   "source": [
    "## Reading the data in"
   ]
  },
  {
   "cell_type": "code",
   "execution_count": 2,
   "id": "informative-triangle",
   "metadata": {},
   "outputs": [],
   "source": [
    "insurance_data = pd.read_csv(\"insurance.csv\")\n",
    "copy_of_insurance_data = pd.read_csv(\"insurance.csv\")"
   ]
  },
  {
   "cell_type": "markdown",
   "id": "headed-terror",
   "metadata": {},
   "source": [
    "## Quick data analysis and transformation"
   ]
  },
  {
   "cell_type": "code",
   "execution_count": 3,
   "id": "cross-greece",
   "metadata": {},
   "outputs": [
    {
     "data": {
      "text/html": [
       "<div>\n",
       "<style scoped>\n",
       "    .dataframe tbody tr th:only-of-type {\n",
       "        vertical-align: middle;\n",
       "    }\n",
       "\n",
       "    .dataframe tbody tr th {\n",
       "        vertical-align: top;\n",
       "    }\n",
       "\n",
       "    .dataframe thead th {\n",
       "        text-align: right;\n",
       "    }\n",
       "</style>\n",
       "<table border=\"1\" class=\"dataframe\">\n",
       "  <thead>\n",
       "    <tr style=\"text-align: right;\">\n",
       "      <th></th>\n",
       "      <th>age</th>\n",
       "      <th>sex</th>\n",
       "      <th>bmi</th>\n",
       "      <th>children</th>\n",
       "      <th>smoker</th>\n",
       "      <th>region</th>\n",
       "      <th>charges</th>\n",
       "    </tr>\n",
       "  </thead>\n",
       "  <tbody>\n",
       "    <tr>\n",
       "      <th>0</th>\n",
       "      <td>19</td>\n",
       "      <td>female</td>\n",
       "      <td>27.900</td>\n",
       "      <td>0</td>\n",
       "      <td>yes</td>\n",
       "      <td>southwest</td>\n",
       "      <td>16884.92400</td>\n",
       "    </tr>\n",
       "    <tr>\n",
       "      <th>1</th>\n",
       "      <td>18</td>\n",
       "      <td>male</td>\n",
       "      <td>33.770</td>\n",
       "      <td>1</td>\n",
       "      <td>no</td>\n",
       "      <td>southeast</td>\n",
       "      <td>1725.55230</td>\n",
       "    </tr>\n",
       "    <tr>\n",
       "      <th>2</th>\n",
       "      <td>28</td>\n",
       "      <td>male</td>\n",
       "      <td>33.000</td>\n",
       "      <td>3</td>\n",
       "      <td>no</td>\n",
       "      <td>southeast</td>\n",
       "      <td>4449.46200</td>\n",
       "    </tr>\n",
       "    <tr>\n",
       "      <th>3</th>\n",
       "      <td>33</td>\n",
       "      <td>male</td>\n",
       "      <td>22.705</td>\n",
       "      <td>0</td>\n",
       "      <td>no</td>\n",
       "      <td>northwest</td>\n",
       "      <td>21984.47061</td>\n",
       "    </tr>\n",
       "    <tr>\n",
       "      <th>4</th>\n",
       "      <td>32</td>\n",
       "      <td>male</td>\n",
       "      <td>28.880</td>\n",
       "      <td>0</td>\n",
       "      <td>no</td>\n",
       "      <td>northwest</td>\n",
       "      <td>3866.85520</td>\n",
       "    </tr>\n",
       "  </tbody>\n",
       "</table>\n",
       "</div>"
      ],
      "text/plain": [
       "   age     sex     bmi  children smoker     region      charges\n",
       "0   19  female  27.900         0    yes  southwest  16884.92400\n",
       "1   18    male  33.770         1     no  southeast   1725.55230\n",
       "2   28    male  33.000         3     no  southeast   4449.46200\n",
       "3   33    male  22.705         0     no  northwest  21984.47061\n",
       "4   32    male  28.880         0     no  northwest   3866.85520"
      ]
     },
     "execution_count": 3,
     "metadata": {},
     "output_type": "execute_result"
    }
   ],
   "source": [
    "insurance_data.head()"
   ]
  },
  {
   "cell_type": "code",
   "execution_count": 4,
   "id": "brilliant-rating",
   "metadata": {},
   "outputs": [],
   "source": [
    "regions_df = pd.get_dummies(insurance_data['region'])"
   ]
  },
  {
   "cell_type": "code",
   "execution_count": 5,
   "id": "norwegian-ridge",
   "metadata": {},
   "outputs": [],
   "source": [
    "insurance_data = pd.concat([insurance_data, regions_df], axis = 1)"
   ]
  },
  {
   "cell_type": "code",
   "execution_count": 6,
   "id": "colored-drink",
   "metadata": {},
   "outputs": [],
   "source": [
    "insurance_data = insurance_data.drop(['region'], axis = 1)"
   ]
  },
  {
   "cell_type": "code",
   "execution_count": 7,
   "id": "affiliated-forest",
   "metadata": {},
   "outputs": [],
   "source": [
    "insurance_data['sex'] = insurance_data['sex'].eq('male').mul(1)"
   ]
  },
  {
   "cell_type": "code",
   "execution_count": 8,
   "id": "hybrid-mother",
   "metadata": {},
   "outputs": [],
   "source": [
    "insurance_data['smoker'] = insurance_data['smoker'].eq('yes').mul(1)"
   ]
  },
  {
   "cell_type": "code",
   "execution_count": 9,
   "id": "powered-trademark",
   "metadata": {},
   "outputs": [
    {
     "data": {
      "text/html": [
       "<div>\n",
       "<style scoped>\n",
       "    .dataframe tbody tr th:only-of-type {\n",
       "        vertical-align: middle;\n",
       "    }\n",
       "\n",
       "    .dataframe tbody tr th {\n",
       "        vertical-align: top;\n",
       "    }\n",
       "\n",
       "    .dataframe thead th {\n",
       "        text-align: right;\n",
       "    }\n",
       "</style>\n",
       "<table border=\"1\" class=\"dataframe\">\n",
       "  <thead>\n",
       "    <tr style=\"text-align: right;\">\n",
       "      <th></th>\n",
       "      <th>age</th>\n",
       "      <th>sex</th>\n",
       "      <th>bmi</th>\n",
       "      <th>children</th>\n",
       "      <th>smoker</th>\n",
       "      <th>charges</th>\n",
       "      <th>northeast</th>\n",
       "      <th>northwest</th>\n",
       "      <th>southeast</th>\n",
       "      <th>southwest</th>\n",
       "    </tr>\n",
       "  </thead>\n",
       "  <tbody>\n",
       "    <tr>\n",
       "      <th>0</th>\n",
       "      <td>19</td>\n",
       "      <td>0</td>\n",
       "      <td>27.900</td>\n",
       "      <td>0</td>\n",
       "      <td>1</td>\n",
       "      <td>16884.92400</td>\n",
       "      <td>0</td>\n",
       "      <td>0</td>\n",
       "      <td>0</td>\n",
       "      <td>1</td>\n",
       "    </tr>\n",
       "    <tr>\n",
       "      <th>1</th>\n",
       "      <td>18</td>\n",
       "      <td>1</td>\n",
       "      <td>33.770</td>\n",
       "      <td>1</td>\n",
       "      <td>0</td>\n",
       "      <td>1725.55230</td>\n",
       "      <td>0</td>\n",
       "      <td>0</td>\n",
       "      <td>1</td>\n",
       "      <td>0</td>\n",
       "    </tr>\n",
       "    <tr>\n",
       "      <th>2</th>\n",
       "      <td>28</td>\n",
       "      <td>1</td>\n",
       "      <td>33.000</td>\n",
       "      <td>3</td>\n",
       "      <td>0</td>\n",
       "      <td>4449.46200</td>\n",
       "      <td>0</td>\n",
       "      <td>0</td>\n",
       "      <td>1</td>\n",
       "      <td>0</td>\n",
       "    </tr>\n",
       "    <tr>\n",
       "      <th>3</th>\n",
       "      <td>33</td>\n",
       "      <td>1</td>\n",
       "      <td>22.705</td>\n",
       "      <td>0</td>\n",
       "      <td>0</td>\n",
       "      <td>21984.47061</td>\n",
       "      <td>0</td>\n",
       "      <td>1</td>\n",
       "      <td>0</td>\n",
       "      <td>0</td>\n",
       "    </tr>\n",
       "    <tr>\n",
       "      <th>4</th>\n",
       "      <td>32</td>\n",
       "      <td>1</td>\n",
       "      <td>28.880</td>\n",
       "      <td>0</td>\n",
       "      <td>0</td>\n",
       "      <td>3866.85520</td>\n",
       "      <td>0</td>\n",
       "      <td>1</td>\n",
       "      <td>0</td>\n",
       "      <td>0</td>\n",
       "    </tr>\n",
       "    <tr>\n",
       "      <th>...</th>\n",
       "      <td>...</td>\n",
       "      <td>...</td>\n",
       "      <td>...</td>\n",
       "      <td>...</td>\n",
       "      <td>...</td>\n",
       "      <td>...</td>\n",
       "      <td>...</td>\n",
       "      <td>...</td>\n",
       "      <td>...</td>\n",
       "      <td>...</td>\n",
       "    </tr>\n",
       "    <tr>\n",
       "      <th>1333</th>\n",
       "      <td>50</td>\n",
       "      <td>1</td>\n",
       "      <td>30.970</td>\n",
       "      <td>3</td>\n",
       "      <td>0</td>\n",
       "      <td>10600.54830</td>\n",
       "      <td>0</td>\n",
       "      <td>1</td>\n",
       "      <td>0</td>\n",
       "      <td>0</td>\n",
       "    </tr>\n",
       "    <tr>\n",
       "      <th>1334</th>\n",
       "      <td>18</td>\n",
       "      <td>0</td>\n",
       "      <td>31.920</td>\n",
       "      <td>0</td>\n",
       "      <td>0</td>\n",
       "      <td>2205.98080</td>\n",
       "      <td>1</td>\n",
       "      <td>0</td>\n",
       "      <td>0</td>\n",
       "      <td>0</td>\n",
       "    </tr>\n",
       "    <tr>\n",
       "      <th>1335</th>\n",
       "      <td>18</td>\n",
       "      <td>0</td>\n",
       "      <td>36.850</td>\n",
       "      <td>0</td>\n",
       "      <td>0</td>\n",
       "      <td>1629.83350</td>\n",
       "      <td>0</td>\n",
       "      <td>0</td>\n",
       "      <td>1</td>\n",
       "      <td>0</td>\n",
       "    </tr>\n",
       "    <tr>\n",
       "      <th>1336</th>\n",
       "      <td>21</td>\n",
       "      <td>0</td>\n",
       "      <td>25.800</td>\n",
       "      <td>0</td>\n",
       "      <td>0</td>\n",
       "      <td>2007.94500</td>\n",
       "      <td>0</td>\n",
       "      <td>0</td>\n",
       "      <td>0</td>\n",
       "      <td>1</td>\n",
       "    </tr>\n",
       "    <tr>\n",
       "      <th>1337</th>\n",
       "      <td>61</td>\n",
       "      <td>0</td>\n",
       "      <td>29.070</td>\n",
       "      <td>0</td>\n",
       "      <td>1</td>\n",
       "      <td>29141.36030</td>\n",
       "      <td>0</td>\n",
       "      <td>1</td>\n",
       "      <td>0</td>\n",
       "      <td>0</td>\n",
       "    </tr>\n",
       "  </tbody>\n",
       "</table>\n",
       "<p>1338 rows × 10 columns</p>\n",
       "</div>"
      ],
      "text/plain": [
       "      age  sex     bmi  children  smoker      charges  northeast  northwest  \\\n",
       "0      19    0  27.900         0       1  16884.92400          0          0   \n",
       "1      18    1  33.770         1       0   1725.55230          0          0   \n",
       "2      28    1  33.000         3       0   4449.46200          0          0   \n",
       "3      33    1  22.705         0       0  21984.47061          0          1   \n",
       "4      32    1  28.880         0       0   3866.85520          0          1   \n",
       "...   ...  ...     ...       ...     ...          ...        ...        ...   \n",
       "1333   50    1  30.970         3       0  10600.54830          0          1   \n",
       "1334   18    0  31.920         0       0   2205.98080          1          0   \n",
       "1335   18    0  36.850         0       0   1629.83350          0          0   \n",
       "1336   21    0  25.800         0       0   2007.94500          0          0   \n",
       "1337   61    0  29.070         0       1  29141.36030          0          1   \n",
       "\n",
       "      southeast  southwest  \n",
       "0             0          1  \n",
       "1             1          0  \n",
       "2             1          0  \n",
       "3             0          0  \n",
       "4             0          0  \n",
       "...         ...        ...  \n",
       "1333          0          0  \n",
       "1334          0          0  \n",
       "1335          1          0  \n",
       "1336          0          1  \n",
       "1337          0          0  \n",
       "\n",
       "[1338 rows x 10 columns]"
      ]
     },
     "execution_count": 9,
     "metadata": {},
     "output_type": "execute_result"
    }
   ],
   "source": [
    "## Checking to ensure that the initial transformations have been done\n",
    "insurance_data"
   ]
  },
  {
   "cell_type": "markdown",
   "id": "indie-evaluation",
   "metadata": {},
   "source": [
    "#### Visualising the data"
   ]
  },
  {
   "cell_type": "code",
   "execution_count": 10,
   "id": "honey-renewal",
   "metadata": {},
   "outputs": [
    {
     "name": "stderr",
     "output_type": "stream",
     "text": [
      "C:\\Users\\darre\\Anaconda3\\lib\\site-packages\\matplotlib\\cbook\\__init__.py:1402: FutureWarning: Support for multi-dimensional indexing (e.g. `obj[:, None]`) is deprecated and will be removed in a future version.  Convert to a numpy array before indexing instead.\n",
      "  ndim = x[:, None].ndim\n",
      "C:\\Users\\darre\\Anaconda3\\lib\\site-packages\\matplotlib\\axes\\_base.py:276: FutureWarning: Support for multi-dimensional indexing (e.g. `obj[:, None]`) is deprecated and will be removed in a future version.  Convert to a numpy array before indexing instead.\n",
      "  x = x[:, np.newaxis]\n",
      "C:\\Users\\darre\\Anaconda3\\lib\\site-packages\\matplotlib\\axes\\_base.py:278: FutureWarning: Support for multi-dimensional indexing (e.g. `obj[:, None]`) is deprecated and will be removed in a future version.  Convert to a numpy array before indexing instead.\n",
      "  y = y[:, np.newaxis]\n"
     ]
    },
    {
     "data": {
      "text/plain": [
       "Text(0.5, 1, 'Distribution of charges')"
      ]
     },
     "execution_count": 10,
     "metadata": {},
     "output_type": "execute_result"
    },
    {
     "data": {
      "text/plain": [
       "<Figure size 864x576 with 0 Axes>"
      ]
     },
     "metadata": {},
     "output_type": "display_data"
    },
    {
     "data": {
      "image/png": "[encoded data removed]",
      "text/plain": [
       "<Figure size 360x360 with 1 Axes>"
      ]
     },
     "metadata": {},
     "output_type": "display_data"
    }
   ],
   "source": [
    "sns.set(style = 'whitegrid')\n",
    "f, ax = plt.subplots(1,0, figsize = (12,8))\n",
    "ax = sns.displot(insurance_data['charges'], kde = True, color = 'c')\n",
    "plt.title('Distribution of charges')"
   ]
  },
  {
   "cell_type": "markdown",
   "id": "proud-observation",
   "metadata": {},
   "source": [
    "The charge data shows a significant skewed to the right. This could be transformed with a log transformation. This will be done as a variation of the modelling. "
   ]
  },
  {
   "cell_type": "code",
   "execution_count": 11,
   "id": "interesting-onion",
   "metadata": {},
   "outputs": [
    {
     "data": {
      "image/png": "[encoded data removed]",
      "text/plain": [
       "<Figure size 408.175x360 with 1 Axes>"
      ]
     },
     "metadata": {},
     "output_type": "display_data"
    },
    {
     "data": {
      "image/png": "[encoded data removed]",
      "text/plain": [
       "<Figure size 408.175x360 with 1 Axes>"
      ]
     },
     "metadata": {},
     "output_type": "display_data"
    },
    {
     "data": {
      "image/png": "[encoded data removed]",
      "text/plain": [
       "<Figure size 408.175x360 with 1 Axes>"
      ]
     },
     "metadata": {},
     "output_type": "display_data"
    }
   ],
   "source": [
    "ax = sns.lmplot(x = 'age', y = 'charges', data=insurance_data, hue='smoker', palette='Set1')\n",
    "ax = sns.lmplot(x = 'bmi', y = 'charges', data=insurance_data, hue='smoker', palette='Set2')\n",
    "ax = sns.lmplot(x = 'children', y = 'charges', data=insurance_data, hue='smoker', palette='Set3')"
   ]
  },
  {
   "cell_type": "code",
   "execution_count": 12,
   "id": "shaped-diesel",
   "metadata": {},
   "outputs": [
    {
     "data": {
      "image/png": "[encoded data removed]",
      "text/plain": [
       "<Figure size 720x720 with 2 Axes>"
      ]
     },
     "metadata": {},
     "output_type": "display_data"
    }
   ],
   "source": [
    "f, ax = plt.subplots(1, 1, figsize=(10, 10))\n",
    "ax = sns.heatmap(insurance_data.corr(), annot=True, cmap='cool')"
   ]
  },
  {
   "cell_type": "markdown",
   "id": "macro-advertiser",
   "metadata": {},
   "source": [
    "**Splitting the dataset and initial model fit**"
   ]
  },
  {
   "cell_type": "code",
   "execution_count": 13,
   "id": "lesser-picking",
   "metadata": {},
   "outputs": [],
   "source": [
    "person_details = insurance_data.iloc[: ,[0,1,2,3,4,6,7,8,9]]\n",
    "person_charges = insurance_data.iloc[:,[5]]"
   ]
  },
  {
   "cell_type": "code",
   "execution_count": 14,
   "id": "defined-typing",
   "metadata": {},
   "outputs": [],
   "source": [
    "model = sm.OLS(person_charges, person_details)"
   ]
  },
  {
   "cell_type": "code",
   "execution_count": 15,
   "id": "mineral-spectrum",
   "metadata": {},
   "outputs": [],
   "source": [
    "fitted_model = model.fit()"
   ]
  },
  {
   "cell_type": "code",
   "execution_count": 16,
   "id": "efficient-northern",
   "metadata": {},
   "outputs": [
    {
     "name": "stdout",
     "output_type": "stream",
     "text": [
      "                            OLS Regression Results                            \n",
      "==============================================================================\n",
      "Dep. Variable:                charges   R-squared:                       0.751\n",
      "Model:                            OLS   Adj. R-squared:                  0.749\n",
      "Method:                 Least Squares   F-statistic:                     500.8\n",
      "Date:                Sat, 16 Oct 2021   Prob (F-statistic):               0.00\n",
      "Time:                        13:17:16   Log-Likelihood:                -13548.\n",
      "No. Observations:                1338   AIC:                         2.711e+04\n",
      "Df Residuals:                    1329   BIC:                         2.716e+04\n",
      "Df Model:                           8                                         \n",
      "Covariance Type:            nonrobust                                         \n",
      "==============================================================================\n",
      "                 coef    std err          t      P>|t|      [0.025      0.975]\n",
      "------------------------------------------------------------------------------\n",
      "age          256.8564     11.899     21.587      0.000     233.514     280.199\n",
      "sex         -131.3144    332.945     -0.394      0.693    -784.470     521.842\n",
      "bmi          339.1935     28.599     11.860      0.000     283.088     395.298\n",
      "children     475.5005    137.804      3.451      0.001     205.163     745.838\n",
      "smoker      2.385e+04    413.153     57.723      0.000     2.3e+04    2.47e+04\n",
      "northeast  -1.194e+04    987.819    -12.086      0.000   -1.39e+04      -1e+04\n",
      "northwest  -1.229e+04    988.196    -12.438      0.000   -1.42e+04   -1.04e+04\n",
      "southeast  -1.297e+04   1079.158    -12.022      0.000   -1.51e+04   -1.09e+04\n",
      "southwest   -1.29e+04   1020.964    -12.634      0.000   -1.49e+04   -1.09e+04\n",
      "==============================================================================\n",
      "Omnibus:                      300.366   Durbin-Watson:                   2.088\n",
      "Prob(Omnibus):                  0.000   Jarque-Bera (JB):              718.887\n",
      "Skew:                           1.211   Prob(JB):                    7.86e-157\n",
      "Kurtosis:                       5.651   Cond. No.                         605.\n",
      "==============================================================================\n",
      "\n",
      "Notes:\n",
      "[1] Standard Errors assume that the covariance matrix of the errors is correctly specified.\n"
     ]
    }
   ],
   "source": [
    "print(fitted_model.summary())"
   ]
  },
  {
   "cell_type": "markdown",
   "id": "optical-paris",
   "metadata": {},
   "source": [
    "The model summary illustrates that all of the variables are statistically significant from their p-values being less than 0.05. The adjusted r-squared value shows that almost 77% of the charges values are explained by this data.\n",
    "\n",
    "However, it should be noted that the data types are in different metrics and so a data transformation method should be considered in a model iteration. "
   ]
  },
  {
   "cell_type": "markdown",
   "id": "prepared-appeal",
   "metadata": {},
   "source": [
    "### Creating a new variable to help with the stratified split"
   ]
  },
  {
   "cell_type": "code",
   "execution_count": 17,
   "id": "pleased-revelation",
   "metadata": {},
   "outputs": [],
   "source": [
    "median_charge = insurance_data['charges'].median()"
   ]
  },
  {
   "cell_type": "code",
   "execution_count": 18,
   "id": "advisory-interstate",
   "metadata": {},
   "outputs": [],
   "source": [
    "insurance_data['charge_greater_than_median'] = insurance_data['charges'] > median_charge"
   ]
  },
  {
   "cell_type": "code",
   "execution_count": 19,
   "id": "amateur-notification",
   "metadata": {},
   "outputs": [],
   "source": [
    "insurance_data['charge_greater_than_median'] = insurance_data['charge_greater_than_median'].eq('True').mul(1)"
   ]
  },
  {
   "cell_type": "code",
   "execution_count": 20,
   "id": "formed-movement",
   "metadata": {},
   "outputs": [],
   "source": [
    "X_set = insurance_data.iloc[: ,[0,1,2,3,4,6,7,8,9]]\n",
    "Y_set = insurance_data.iloc[: ,[5]]"
   ]
  },
  {
   "cell_type": "code",
   "execution_count": 21,
   "id": "compatible-philip",
   "metadata": {},
   "outputs": [],
   "source": [
    "X_train, X_test, y_train, y_test = train_test_split(X_set, Y_set, test_size = 0.30,\n",
    "                                                    random_state = 42,\n",
    "                                                    stratify = insurance_data['charge_greater_than_median'])"
   ]
  },
  {
   "cell_type": "code",
   "execution_count": 22,
   "id": "capital-rebecca",
   "metadata": {},
   "outputs": [],
   "source": [
    "### training and testing\n",
    "simple_model = sm.OLS(y_train, X_train['age'])\n",
    "fitted_simple_model = simple_model.fit()"
   ]
  },
  {
   "cell_type": "code",
   "execution_count": 23,
   "id": "elect-turkish",
   "metadata": {},
   "outputs": [
    {
     "name": "stdout",
     "output_type": "stream",
     "text": [
      "                                 OLS Regression Results                                \n",
      "=======================================================================================\n",
      "Dep. Variable:                charges   R-squared (uncentered):                   0.587\n",
      "Model:                            OLS   Adj. R-squared (uncentered):              0.587\n",
      "Method:                 Least Squares   F-statistic:                              1330.\n",
      "Date:                Sat, 16 Oct 2021   Prob (F-statistic):                   7.86e-182\n",
      "Time:                        13:17:16   Log-Likelihood:                         -10094.\n",
      "No. Observations:                 936   AIC:                                  2.019e+04\n",
      "Df Residuals:                     935   BIC:                                  2.019e+04\n",
      "Df Model:                           1                                                  \n",
      "Covariance Type:            nonrobust                                                  \n",
      "==============================================================================\n",
      "                 coef    std err          t      P>|t|      [0.025      0.975]\n",
      "------------------------------------------------------------------------------\n",
      "age          333.3751      9.141     36.469      0.000     315.435     351.315\n",
      "==============================================================================\n",
      "Omnibus:                      250.409   Durbin-Watson:                   1.933\n",
      "Prob(Omnibus):                  0.000   Jarque-Bera (JB):              483.792\n",
      "Skew:                           1.626   Prob(JB):                    8.83e-106\n",
      "Kurtosis:                       4.351   Cond. No.                         1.00\n",
      "==============================================================================\n",
      "\n",
      "Notes:\n",
      "[1] R² is computed without centering (uncentered) since the model does not contain a constant.\n",
      "[2] Standard Errors assume that the covariance matrix of the errors is correctly specified.\n"
     ]
    }
   ],
   "source": [
    "print(fitted_simple_model.summary())"
   ]
  },
  {
   "cell_type": "code",
   "execution_count": 24,
   "id": "loving-tours",
   "metadata": {},
   "outputs": [],
   "source": [
    "predictions = fitted_simple_model.predict(X_test['age'])"
   ]
  },
  {
   "cell_type": "code",
   "execution_count": 25,
   "id": "recent-madagascar",
   "metadata": {},
   "outputs": [],
   "source": [
    "preds_and_results = zip(predictions,y_test['charges'])\n",
    "preds_and_results = list(preds_and_results)"
   ]
  },
  {
   "cell_type": "code",
   "execution_count": 26,
   "id": "seeing-output",
   "metadata": {},
   "outputs": [
    {
     "name": "stderr",
     "output_type": "stream",
     "text": [
      "C:\\Users\\darre\\Anaconda3\\lib\\site-packages\\matplotlib\\cbook\\__init__.py:1402: FutureWarning: Support for multi-dimensional indexing (e.g. `obj[:, None]`) is deprecated and will be removed in a future version.  Convert to a numpy array before indexing instead.\n",
      "  ndim = x[:, None].ndim\n",
      "C:\\Users\\darre\\Anaconda3\\lib\\site-packages\\matplotlib\\axes\\_base.py:276: FutureWarning: Support for multi-dimensional indexing (e.g. `obj[:, None]`) is deprecated and will be removed in a future version.  Convert to a numpy array before indexing instead.\n",
      "  x = x[:, np.newaxis]\n",
      "C:\\Users\\darre\\Anaconda3\\lib\\site-packages\\matplotlib\\axes\\_base.py:278: FutureWarning: Support for multi-dimensional indexing (e.g. `obj[:, None]`) is deprecated and will be removed in a future version.  Convert to a numpy array before indexing instead.\n",
      "  y = y[:, np.newaxis]\n"
     ]
    },
    {
     "data": {
      "text/plain": [
       "[<matplotlib.lines.Line2D at 0x1c40ba7d208>]"
      ]
     },
     "execution_count": 26,
     "metadata": {},
     "output_type": "execute_result"
    },
    {
     "data": {
      "image/png": "[encoded data removed]",
      "text/plain": [
       "<Figure size 432x288 with 1 Axes>"
      ]
     },
     "metadata": {},
     "output_type": "display_data"
    }
   ],
   "source": [
    "fig, ax = plt.subplots()\n",
    "ax.plot(predictions, y_test['charges'], \"o\", label = \"Data\")"
   ]
  },
  {
   "cell_type": "code",
   "execution_count": 27,
   "id": "statewide-subcommittee",
   "metadata": {},
   "outputs": [
    {
     "name": "stdout",
     "output_type": "stream",
     "text": [
      "11441.316191511609\n"
     ]
    }
   ],
   "source": [
    "print(sm.tools.eval_measures.rmse(y_test['charges'], predictions))"
   ]
  },
  {
   "cell_type": "markdown",
   "id": "bronze-clinton",
   "metadata": {},
   "source": [
    "The basic model, which uses only the age feature, is pretty poor. Though, with only one feature, the model has an r-squared value of nearly .91 which shows that age explains a lot of the charges data. Nonetheless the RMSE, after reversing the transformation is very big - making the model useless. \n",
    "\n",
    "The plot above shows the difference between the prediction and the actual charge value for clients. There is a a lot of variance and this is underpinned by the huge rmse value. \n",
    "\n",
    "In the next stage I will add in a few extra features - bmi and smoker. "
   ]
  },
  {
   "cell_type": "code",
   "execution_count": 28,
   "id": "devoted-judgment",
   "metadata": {},
   "outputs": [],
   "source": [
    "### training and testing\n",
    "second_model = sm.OLS(y_train, X_train[['age','bmi','smoker']])\n",
    "fitted_second_model = second_model.fit()"
   ]
  },
  {
   "cell_type": "code",
   "execution_count": 29,
   "id": "understood-candy",
   "metadata": {},
   "outputs": [
    {
     "name": "stdout",
     "output_type": "stream",
     "text": [
      "                                 OLS Regression Results                                \n",
      "=======================================================================================\n",
      "Dep. Variable:                charges   R-squared (uncentered):                   0.880\n",
      "Model:                            OLS   Adj. R-squared (uncentered):              0.879\n",
      "Method:                 Least Squares   F-statistic:                              2270.\n",
      "Date:                Sat, 16 Oct 2021   Prob (F-statistic):                        0.00\n",
      "Time:                        13:17:17   Log-Likelihood:                         -9517.3\n",
      "No. Observations:                 936   AIC:                                  1.904e+04\n",
      "Df Residuals:                     933   BIC:                                  1.906e+04\n",
      "Df Model:                           3                                                  \n",
      "Covariance Type:            nonrobust                                                  \n",
      "==============================================================================\n",
      "                 coef    std err          t      P>|t|      [0.025      0.975]\n",
      "------------------------------------------------------------------------------\n",
      "age          204.1028     13.774     14.818      0.000     177.072     231.134\n",
      "bmi           25.9183     18.532      1.399      0.162     -10.451      62.288\n",
      "smoker      2.351e+04    503.182     46.730      0.000    2.25e+04    2.45e+04\n",
      "==============================================================================\n",
      "Omnibus:                      159.122   Durbin-Watson:                   1.947\n",
      "Prob(Omnibus):                  0.000   Jarque-Bera (JB):              325.522\n",
      "Skew:                           0.976   Prob(JB):                     2.06e-71\n",
      "Kurtosis:                       5.130   Cond. No.                         125.\n",
      "==============================================================================\n",
      "\n",
      "Notes:\n",
      "[1] R² is computed without centering (uncentered) since the model does not contain a constant.\n",
      "[2] Standard Errors assume that the covariance matrix of the errors is correctly specified.\n"
     ]
    }
   ],
   "source": [
    "print(fitted_second_model.summary())"
   ]
  },
  {
   "cell_type": "markdown",
   "id": "excessive-mailman",
   "metadata": {},
   "source": [
    "In this model with three features we can see that age and smoker are significant, but bmi is not. However, the adjusted r-squared value is nearly .88 which shows these three features explain a considerable amount of the charges data. "
   ]
  },
  {
   "cell_type": "code",
   "execution_count": 30,
   "id": "checked-associate",
   "metadata": {},
   "outputs": [],
   "source": [
    "second_predictions = fitted_second_model.predict(X_test[['age','bmi','smoker']])"
   ]
  },
  {
   "cell_type": "code",
   "execution_count": 31,
   "id": "hazardous-makeup",
   "metadata": {},
   "outputs": [
    {
     "name": "stderr",
     "output_type": "stream",
     "text": [
      "C:\\Users\\darre\\Anaconda3\\lib\\site-packages\\matplotlib\\cbook\\__init__.py:1402: FutureWarning: Support for multi-dimensional indexing (e.g. `obj[:, None]`) is deprecated and will be removed in a future version.  Convert to a numpy array before indexing instead.\n",
      "  ndim = x[:, None].ndim\n",
      "C:\\Users\\darre\\Anaconda3\\lib\\site-packages\\matplotlib\\axes\\_base.py:276: FutureWarning: Support for multi-dimensional indexing (e.g. `obj[:, None]`) is deprecated and will be removed in a future version.  Convert to a numpy array before indexing instead.\n",
      "  x = x[:, np.newaxis]\n",
      "C:\\Users\\darre\\Anaconda3\\lib\\site-packages\\matplotlib\\axes\\_base.py:278: FutureWarning: Support for multi-dimensional indexing (e.g. `obj[:, None]`) is deprecated and will be removed in a future version.  Convert to a numpy array before indexing instead.\n",
      "  y = y[:, np.newaxis]\n"
     ]
    },
    {
     "data": {
      "text/plain": [
       "[<matplotlib.lines.Line2D at 0x1c40bb1be88>]"
      ]
     },
     "execution_count": 31,
     "metadata": {},
     "output_type": "execute_result"
    },
    {
     "data": {
      "image/png": "[encoded data removed]",
      "text/plain": [
       "<Figure size 432x288 with 1 Axes>"
      ]
     },
     "metadata": {},
     "output_type": "display_data"
    }
   ],
   "source": [
    "fig, ax = plt.subplots()\n",
    "ax.plot(second_predictions, y_test['charges'], \"o\", label = \"Data\")"
   ]
  },
  {
   "cell_type": "code",
   "execution_count": 32,
   "id": "functional-scout",
   "metadata": {},
   "outputs": [
    {
     "name": "stdout",
     "output_type": "stream",
     "text": [
      "6705.324001728618\n",
      "6315.374004642929\n"
     ]
    }
   ],
   "source": [
    "print(sm.tools.eval_measures.rmse(y_test['charges'], second_predictions))\n",
    "print(np.sqrt(fitted_second_model.mse_resid))"
   ]
  },
  {
   "cell_type": "markdown",
   "id": "planned-sunrise",
   "metadata": {},
   "source": [
    "This is a huge improvement from the previous model but still very poor.  \n",
    "\n",
    "The RMSE is half of the previous model and we can see the present of a clear division in the data consistent with the introduction of a classification variable - in this case the smokers. \n",
    "\n",
    "In the next section the data shall log transformed to see if there any improvements."
   ]
  },
  {
   "cell_type": "markdown",
   "id": "fantastic-stream",
   "metadata": {},
   "source": [
    "## Log transforming the data\n",
    "As the transformation is only applied to the Y value we can retain many of the existing variables."
   ]
  },
  {
   "cell_type": "code",
   "execution_count": 33,
   "id": "blind-wagon",
   "metadata": {},
   "outputs": [],
   "source": [
    "logged_y_train = np.log10(y_train['charges'])\n",
    "logged_y_test = np.log10(y_test['charges'])"
   ]
  },
  {
   "cell_type": "code",
   "execution_count": 34,
   "id": "apart-lunch",
   "metadata": {},
   "outputs": [],
   "source": [
    "### training and testing\n",
    "intial_logged_model = sm.OLS(logged_y_train, X_train)\n",
    "fitted_initial_logged_model = intial_logged_model.fit()"
   ]
  },
  {
   "cell_type": "code",
   "execution_count": 35,
   "id": "compressed-murder",
   "metadata": {},
   "outputs": [
    {
     "name": "stdout",
     "output_type": "stream",
     "text": [
      "                            OLS Regression Results                            \n",
      "==============================================================================\n",
      "Dep. Variable:                charges   R-squared:                       0.775\n",
      "Model:                            OLS   Adj. R-squared:                  0.773\n",
      "Method:                 Least Squares   F-statistic:                     399.4\n",
      "Date:                Sat, 16 Oct 2021   Prob (F-statistic):          3.35e-294\n",
      "Time:                        13:17:17   Log-Likelihood:                 234.67\n",
      "No. Observations:                 936   AIC:                            -451.3\n",
      "Df Residuals:                     927   BIC:                            -407.8\n",
      "Df Model:                           8                                         \n",
      "Covariance Type:            nonrobust                                         \n",
      "==============================================================================\n",
      "                 coef    std err          t      P>|t|      [0.025      0.975]\n",
      "------------------------------------------------------------------------------\n",
      "age            0.0150      0.000     33.027      0.000       0.014       0.016\n",
      "sex           -0.0287      0.012     -2.302      0.022      -0.053      -0.004\n",
      "bmi            0.0047      0.001      4.462      0.000       0.003       0.007\n",
      "children       0.0464      0.005      8.997      0.000       0.036       0.056\n",
      "smoker         0.6754      0.015     44.222      0.000       0.645       0.705\n",
      "northeast      3.0824      0.037     84.035      0.000       3.010       3.154\n",
      "northwest      3.0539      0.037     83.607      0.000       2.982       3.126\n",
      "southeast      3.0211      0.040     76.050      0.000       2.943       3.099\n",
      "southwest      3.0276      0.038     80.582      0.000       2.954       3.101\n",
      "==============================================================================\n",
      "Omnibus:                      346.341   Durbin-Watson:                   2.048\n",
      "Prob(Omnibus):                  0.000   Jarque-Bera (JB):             1349.560\n",
      "Skew:                           1.741   Prob(JB):                    8.85e-294\n",
      "Kurtosis:                       7.741   Cond. No.                         600.\n",
      "==============================================================================\n",
      "\n",
      "Notes:\n",
      "[1] Standard Errors assume that the covariance matrix of the errors is correctly specified.\n"
     ]
    }
   ],
   "source": [
    "print(fitted_initial_logged_model.summary())"
   ]
  },
  {
   "cell_type": "markdown",
   "id": "loose-northeast",
   "metadata": {},
   "source": [
    "In this case we can see only 'sex' is the only feature to not be statistically significant. We will first test with just the age feature, as before. But before that we will see how this model performs"
   ]
  },
  {
   "cell_type": "code",
   "execution_count": 36,
   "id": "impressed-journey",
   "metadata": {},
   "outputs": [],
   "source": [
    "logged_predictions = fitted_initial_logged_model.predict(X_test)"
   ]
  },
  {
   "cell_type": "code",
   "execution_count": 37,
   "id": "indirect-cycle",
   "metadata": {},
   "outputs": [
    {
     "name": "stderr",
     "output_type": "stream",
     "text": [
      "C:\\Users\\darre\\Anaconda3\\lib\\site-packages\\matplotlib\\cbook\\__init__.py:1402: FutureWarning: Support for multi-dimensional indexing (e.g. `obj[:, None]`) is deprecated and will be removed in a future version.  Convert to a numpy array before indexing instead.\n",
      "  ndim = x[:, None].ndim\n",
      "C:\\Users\\darre\\Anaconda3\\lib\\site-packages\\matplotlib\\axes\\_base.py:276: FutureWarning: Support for multi-dimensional indexing (e.g. `obj[:, None]`) is deprecated and will be removed in a future version.  Convert to a numpy array before indexing instead.\n",
      "  x = x[:, np.newaxis]\n",
      "C:\\Users\\darre\\Anaconda3\\lib\\site-packages\\matplotlib\\axes\\_base.py:278: FutureWarning: Support for multi-dimensional indexing (e.g. `obj[:, None]`) is deprecated and will be removed in a future version.  Convert to a numpy array before indexing instead.\n",
      "  y = y[:, np.newaxis]\n"
     ]
    },
    {
     "data": {
      "text/plain": [
       "[<matplotlib.lines.Line2D at 0x1c40be33c88>]"
      ]
     },
     "execution_count": 37,
     "metadata": {},
     "output_type": "execute_result"
    },
    {
     "data": {
      "image/png": "[encoded data removed]",
      "text/plain": [
       "<Figure size 432x288 with 1 Axes>"
      ]
     },
     "metadata": {},
     "output_type": "display_data"
    }
   ],
   "source": [
    "fig, ax = plt.subplots()\n",
    "ax.plot(10**logged_predictions, 10**logged_y_test, \"o\", label = \"Data\")"
   ]
  },
  {
   "cell_type": "code",
   "execution_count": 38,
   "id": "alpha-might",
   "metadata": {},
   "outputs": [
    {
     "name": "stdout",
     "output_type": "stream",
     "text": [
      "9062.848601970942\n",
      "0.18922323969207885\n"
     ]
    }
   ],
   "source": [
    "print(sm.tools.eval_measures.rmse(10**logged_y_test, 10**logged_predictions))\n",
    "print(np.sqrt(fitted_initial_logged_model.mse_resid))"
   ]
  },
  {
   "cell_type": "markdown",
   "id": "liked-brick",
   "metadata": {},
   "source": [
    "#### A model which uses only the age feature"
   ]
  },
  {
   "cell_type": "code",
   "execution_count": 39,
   "id": "hydraulic-mayor",
   "metadata": {},
   "outputs": [],
   "source": [
    "### training and testing\n",
    "age_only_logged_model = sm.OLS(logged_y_train, X_train['age'])\n",
    "fitted_age_only_logged_model = age_only_logged_model.fit()"
   ]
  },
  {
   "cell_type": "code",
   "execution_count": 40,
   "id": "annoying-amsterdam",
   "metadata": {},
   "outputs": [
    {
     "name": "stdout",
     "output_type": "stream",
     "text": [
      "                                 OLS Regression Results                                \n",
      "=======================================================================================\n",
      "Dep. Variable:                charges   R-squared (uncentered):                   0.914\n",
      "Model:                            OLS   Adj. R-squared (uncentered):              0.914\n",
      "Method:                 Least Squares   F-statistic:                              9984.\n",
      "Date:                Sat, 16 Oct 2021   Prob (F-statistic):                        0.00\n",
      "Time:                        13:17:17   Log-Likelihood:                         -1470.4\n",
      "No. Observations:                 936   AIC:                                      2943.\n",
      "Df Residuals:                     935   BIC:                                      2948.\n",
      "Df Model:                           1                                                  \n",
      "Covariance Type:            nonrobust                                                  \n",
      "==============================================================================\n",
      "                 coef    std err          t      P>|t|      [0.025      0.975]\n",
      "------------------------------------------------------------------------------\n",
      "age            0.0911      0.001     99.918      0.000       0.089       0.093\n",
      "==============================================================================\n",
      "Omnibus:                      105.762   Durbin-Watson:                   1.621\n",
      "Prob(Omnibus):                  0.000   Jarque-Bera (JB):               30.616\n",
      "Skew:                           0.087   Prob(JB):                     2.25e-07\n",
      "Kurtosis:                       2.131   Cond. No.                         1.00\n",
      "==============================================================================\n",
      "\n",
      "Notes:\n",
      "[1] R² is computed without centering (uncentered) since the model does not contain a constant.\n",
      "[2] Standard Errors assume that the covariance matrix of the errors is correctly specified.\n"
     ]
    }
   ],
   "source": [
    "print(fitted_age_only_logged_model.summary())"
   ]
  },
  {
   "cell_type": "code",
   "execution_count": 41,
   "id": "constant-controversy",
   "metadata": {},
   "outputs": [],
   "source": [
    "age_only_predictions = fitted_age_only_logged_model.predict(X_test['age'])"
   ]
  },
  {
   "cell_type": "code",
   "execution_count": 42,
   "id": "skilled-course",
   "metadata": {},
   "outputs": [
    {
     "name": "stderr",
     "output_type": "stream",
     "text": [
      "C:\\Users\\darre\\Anaconda3\\lib\\site-packages\\matplotlib\\cbook\\__init__.py:1402: FutureWarning: Support for multi-dimensional indexing (e.g. `obj[:, None]`) is deprecated and will be removed in a future version.  Convert to a numpy array before indexing instead.\n",
      "  ndim = x[:, None].ndim\n",
      "C:\\Users\\darre\\Anaconda3\\lib\\site-packages\\matplotlib\\axes\\_base.py:276: FutureWarning: Support for multi-dimensional indexing (e.g. `obj[:, None]`) is deprecated and will be removed in a future version.  Convert to a numpy array before indexing instead.\n",
      "  x = x[:, np.newaxis]\n",
      "C:\\Users\\darre\\Anaconda3\\lib\\site-packages\\matplotlib\\axes\\_base.py:278: FutureWarning: Support for multi-dimensional indexing (e.g. `obj[:, None]`) is deprecated and will be removed in a future version.  Convert to a numpy array before indexing instead.\n",
      "  y = y[:, np.newaxis]\n"
     ]
    },
    {
     "data": {
      "text/plain": [
       "[<matplotlib.lines.Line2D at 0x1c40a8c6548>]"
      ]
     },
     "execution_count": 42,
     "metadata": {},
     "output_type": "execute_result"
    },
    {
     "data": {
      "image/png": "[encoded data removed]",
      "text/plain": [
       "<Figure size 432x288 with 1 Axes>"
      ]
     },
     "metadata": {},
     "output_type": "display_data"
    }
   ],
   "source": [
    "fig, ax = plt.subplots()\n",
    "ax.plot(10**age_only_predictions, 10**logged_y_test, \"o\", label = \"Data\")"
   ]
  },
  {
   "cell_type": "code",
   "execution_count": 43,
   "id": "optimum-norway",
   "metadata": {},
   "outputs": [
    {
     "name": "stdout",
     "output_type": "stream",
     "text": [
      "151944.81502223277\n",
      "1.1648250528114772\n"
     ]
    }
   ],
   "source": [
    "print(sm.tools.eval_measures.rmse(10**logged_y_test, 10**age_only_predictions))\n",
    "print(np.sqrt(fitted_age_only_logged_model.mse_resid))"
   ]
  },
  {
   "cell_type": "markdown",
   "id": "dressed-fleet",
   "metadata": {},
   "source": [
    "The age only model leads to a model with a significantly RMSE. So whilst age is significant its not enough to build a model on. "
   ]
  },
  {
   "cell_type": "markdown",
   "id": "moderate-election",
   "metadata": {},
   "source": [
    "#### A model using age, bmi, smoker and geography features"
   ]
  },
  {
   "cell_type": "code",
   "execution_count": 44,
   "id": "seven-railway",
   "metadata": {},
   "outputs": [],
   "source": [
    "### training and testing\n",
    "multi_feature_logged_model = sm.OLS(logged_y_train, X_train[['age','bmi','smoker','southeast','southwest','northeast','northwest']])\n",
    "fitted_multi_feature_logged_model = multi_feature_logged_model.fit()"
   ]
  },
  {
   "cell_type": "code",
   "execution_count": 45,
   "id": "iraqi-particle",
   "metadata": {},
   "outputs": [
    {
     "name": "stdout",
     "output_type": "stream",
     "text": [
      "                            OLS Regression Results                            \n",
      "==============================================================================\n",
      "Dep. Variable:                charges   R-squared:                       0.755\n",
      "Model:                            OLS   Adj. R-squared:                  0.753\n",
      "Method:                 Least Squares   F-statistic:                     475.9\n",
      "Date:                Sat, 16 Oct 2021   Prob (F-statistic):          2.90e-279\n",
      "Time:                        13:17:18   Log-Likelihood:                 193.64\n",
      "No. Observations:                 936   AIC:                            -373.3\n",
      "Df Residuals:                     929   BIC:                            -339.4\n",
      "Df Model:                           6                                         \n",
      "Covariance Type:            nonrobust                                         \n",
      "==============================================================================\n",
      "                 coef    std err          t      P>|t|      [0.025      0.975]\n",
      "------------------------------------------------------------------------------\n",
      "age            0.0152      0.000     32.154      0.000       0.014       0.016\n",
      "bmi            0.0046      0.001      4.241      0.000       0.002       0.007\n",
      "smoker         0.6710      0.016     42.284      0.000       0.640       0.702\n",
      "southeast      3.0481      0.041     74.562      0.000       2.968       3.128\n",
      "southwest      3.0624      0.038     79.596      0.000       2.987       3.138\n",
      "northeast      3.1120      0.038     82.589      0.000       3.038       3.186\n",
      "northwest      3.0902      0.037     82.595      0.000       3.017       3.164\n",
      "==============================================================================\n",
      "Omnibus:                      267.999   Durbin-Watson:                   2.087\n",
      "Prob(Omnibus):                  0.000   Jarque-Bera (JB):              860.520\n",
      "Skew:                           1.387   Prob(JB):                    1.38e-187\n",
      "Kurtosis:                       6.791   Cond. No.                         589.\n",
      "==============================================================================\n",
      "\n",
      "Notes:\n",
      "[1] Standard Errors assume that the covariance matrix of the errors is correctly specified.\n"
     ]
    }
   ],
   "source": [
    "print(fitted_multi_feature_logged_model.summary())"
   ]
  },
  {
   "cell_type": "code",
   "execution_count": 46,
   "id": "third-preview",
   "metadata": {},
   "outputs": [],
   "source": [
    "mutli_feat_predictions = fitted_multi_feature_logged_model.predict(X_test[['age','bmi','smoker','southeast','southwest','northeast','northwest']])"
   ]
  },
  {
   "cell_type": "code",
   "execution_count": 47,
   "id": "encouraging-correspondence",
   "metadata": {},
   "outputs": [
    {
     "name": "stderr",
     "output_type": "stream",
     "text": [
      "C:\\Users\\darre\\Anaconda3\\lib\\site-packages\\matplotlib\\cbook\\__init__.py:1402: FutureWarning: Support for multi-dimensional indexing (e.g. `obj[:, None]`) is deprecated and will be removed in a future version.  Convert to a numpy array before indexing instead.\n",
      "  ndim = x[:, None].ndim\n",
      "C:\\Users\\darre\\Anaconda3\\lib\\site-packages\\matplotlib\\axes\\_base.py:276: FutureWarning: Support for multi-dimensional indexing (e.g. `obj[:, None]`) is deprecated and will be removed in a future version.  Convert to a numpy array before indexing instead.\n",
      "  x = x[:, np.newaxis]\n",
      "C:\\Users\\darre\\Anaconda3\\lib\\site-packages\\matplotlib\\axes\\_base.py:278: FutureWarning: Support for multi-dimensional indexing (e.g. `obj[:, None]`) is deprecated and will be removed in a future version.  Convert to a numpy array before indexing instead.\n",
      "  y = y[:, np.newaxis]\n"
     ]
    },
    {
     "data": {
      "text/plain": [
       "[<matplotlib.lines.Line2D at 0x1c40a8de788>]"
      ]
     },
     "execution_count": 47,
     "metadata": {},
     "output_type": "execute_result"
    },
    {
     "data": {
      "image/png": "[encoded data removed]",
      "text/plain": [
       "<Figure size 432x288 with 1 Axes>"
      ]
     },
     "metadata": {},
     "output_type": "display_data"
    }
   ],
   "source": [
    "fig, ax = plt.subplots()\n",
    "ax.plot(10**mutli_feat_predictions, 10**logged_y_test, \"o\", label = \"Data\")"
   ]
  },
  {
   "cell_type": "code",
   "execution_count": 48,
   "id": "bound-positive",
   "metadata": {},
   "outputs": [
    {
     "name": "stdout",
     "output_type": "stream",
     "text": [
      "8398.282891127637\n",
      "0.19749047208870588\n"
     ]
    }
   ],
   "source": [
    "print(sm.tools.eval_measures.rmse(10**logged_y_test, 10**mutli_feat_predictions))\n",
    "print(np.sqrt(fitted_multi_feature_logged_model.mse_resid))"
   ]
  },
  {
   "cell_type": "markdown",
   "id": "thirty-farmer",
   "metadata": {},
   "source": [
    "The log transformation experiments show the model does not perform better, compared to the original dataset. A model using the log transformed dataset requires a greater number of features and still does not produce an RMSE as good as the vanilla models. \n",
    "\n",
    "One of the issues of using log transformation is that it can introduce bias into the data. The transformation removes the clear difference introduced in costs caused by being a smoker. \n",
    "\n",
    "In the next section I explore normalising the data. "
   ]
  },
  {
   "cell_type": "markdown",
   "id": "covered-cancellation",
   "metadata": {},
   "source": [
    "## Normalising the data\n",
    "As the data used is on different scales as normaliser will be used. It will be fitted on the train set and applied to the test set. "
   ]
  },
  {
   "cell_type": "code",
   "execution_count": 49,
   "id": "mexican-fence",
   "metadata": {},
   "outputs": [],
   "source": [
    "data_normalizer = Normalizer()\n",
    "data_normalizer = data_normalizer.fit(X_train)\n",
    "normalizer_train_set = data_normalizer.transform(X_train)\n",
    "normalizer_train_set = pd.DataFrame(normalizer_train_set, columns=list(X_train.columns))\n",
    "normalizer_train_set = normalizer_train_set.set_index(X_train.index)"
   ]
  },
  {
   "cell_type": "code",
   "execution_count": 50,
   "id": "matched-strategy",
   "metadata": {},
   "outputs": [],
   "source": [
    "normalizer_test_set = data_normalizer.transform(X_test)\n",
    "normalizer_test_set = pd.DataFrame(normalizer_test_set, columns=X_test.columns)\n",
    "normalizer_test_set = normalizer_test_set.set_index(X_test.index)"
   ]
  },
  {
   "cell_type": "code",
   "execution_count": 51,
   "id": "visible-jacksonville",
   "metadata": {},
   "outputs": [
    {
     "data": {
      "text/html": [
       "<div>\n",
       "<style scoped>\n",
       "    .dataframe tbody tr th:only-of-type {\n",
       "        vertical-align: middle;\n",
       "    }\n",
       "\n",
       "    .dataframe tbody tr th {\n",
       "        vertical-align: top;\n",
       "    }\n",
       "\n",
       "    .dataframe thead th {\n",
       "        text-align: right;\n",
       "    }\n",
       "</style>\n",
       "<table border=\"1\" class=\"dataframe\">\n",
       "  <thead>\n",
       "    <tr style=\"text-align: right;\">\n",
       "      <th></th>\n",
       "      <th>age</th>\n",
       "      <th>bmi</th>\n",
       "      <th>smoker</th>\n",
       "    </tr>\n",
       "  </thead>\n",
       "  <tbody>\n",
       "    <tr>\n",
       "      <th>1029</th>\n",
       "      <td>0.904609</td>\n",
       "      <td>0.422721</td>\n",
       "      <td>0.000000</td>\n",
       "    </tr>\n",
       "    <tr>\n",
       "      <th>1244</th>\n",
       "      <td>0.474855</td>\n",
       "      <td>0.879273</td>\n",
       "      <td>0.000000</td>\n",
       "    </tr>\n",
       "    <tr>\n",
       "      <th>952</th>\n",
       "      <td>0.725722</td>\n",
       "      <td>0.687137</td>\n",
       "      <td>0.000000</td>\n",
       "    </tr>\n",
       "    <tr>\n",
       "      <th>1023</th>\n",
       "      <td>0.609969</td>\n",
       "      <td>0.790249</td>\n",
       "      <td>0.000000</td>\n",
       "    </tr>\n",
       "    <tr>\n",
       "      <th>243</th>\n",
       "      <td>0.748338</td>\n",
       "      <td>0.660409</td>\n",
       "      <td>0.000000</td>\n",
       "    </tr>\n",
       "    <tr>\n",
       "      <th>...</th>\n",
       "      <td>...</td>\n",
       "      <td>...</td>\n",
       "      <td>...</td>\n",
       "    </tr>\n",
       "    <tr>\n",
       "      <th>1022</th>\n",
       "      <td>0.792774</td>\n",
       "      <td>0.608581</td>\n",
       "      <td>0.016868</td>\n",
       "    </tr>\n",
       "    <tr>\n",
       "      <th>1032</th>\n",
       "      <td>0.731689</td>\n",
       "      <td>0.681202</td>\n",
       "      <td>0.000000</td>\n",
       "    </tr>\n",
       "    <tr>\n",
       "      <th>165</th>\n",
       "      <td>0.854816</td>\n",
       "      <td>0.513162</td>\n",
       "      <td>0.000000</td>\n",
       "    </tr>\n",
       "    <tr>\n",
       "      <th>1151</th>\n",
       "      <td>0.846396</td>\n",
       "      <td>0.532354</td>\n",
       "      <td>0.000000</td>\n",
       "    </tr>\n",
       "    <tr>\n",
       "      <th>567</th>\n",
       "      <td>0.800582</td>\n",
       "      <td>0.597312</td>\n",
       "      <td>0.000000</td>\n",
       "    </tr>\n",
       "  </tbody>\n",
       "</table>\n",
       "<p>936 rows × 3 columns</p>\n",
       "</div>"
      ],
      "text/plain": [
       "           age       bmi    smoker\n",
       "1029  0.904609  0.422721  0.000000\n",
       "1244  0.474855  0.879273  0.000000\n",
       "952   0.725722  0.687137  0.000000\n",
       "1023  0.609969  0.790249  0.000000\n",
       "243   0.748338  0.660409  0.000000\n",
       "...        ...       ...       ...\n",
       "1022  0.792774  0.608581  0.016868\n",
       "1032  0.731689  0.681202  0.000000\n",
       "165   0.854816  0.513162  0.000000\n",
       "1151  0.846396  0.532354  0.000000\n",
       "567   0.800582  0.597312  0.000000\n",
       "\n",
       "[936 rows x 3 columns]"
      ]
     },
     "execution_count": 51,
     "metadata": {},
     "output_type": "execute_result"
    }
   ],
   "source": [
    "normalizer_train_set[['age','bmi','smoker']]"
   ]
  },
  {
   "cell_type": "code",
   "execution_count": 52,
   "id": "excess-training",
   "metadata": {},
   "outputs": [],
   "source": [
    "### training and testing\n",
    "third_model = sm.OLS(y_train, normalizer_train_set[['age','bmi','smoker']])\n",
    "fitted_third_model = third_model.fit()"
   ]
  },
  {
   "cell_type": "code",
   "execution_count": 53,
   "id": "rolled-enough",
   "metadata": {},
   "outputs": [
    {
     "name": "stdout",
     "output_type": "stream",
     "text": [
      "                                 OLS Regression Results                                \n",
      "=======================================================================================\n",
      "Dep. Variable:                charges   R-squared (uncentered):                   0.791\n",
      "Model:                            OLS   Adj. R-squared (uncentered):              0.790\n",
      "Method:                 Least Squares   F-statistic:                              1178.\n",
      "Date:                Sat, 16 Oct 2021   Prob (F-statistic):                   1.23e-316\n",
      "Time:                        13:17:18   Log-Likelihood:                         -9774.8\n",
      "No. Observations:                 936   AIC:                                  1.956e+04\n",
      "Df Residuals:                     933   BIC:                                  1.957e+04\n",
      "Df Model:                           3                                                  \n",
      "Covariance Type:            nonrobust                                                  \n",
      "==============================================================================\n",
      "                 coef    std err          t      P>|t|      [0.025      0.975]\n",
      "------------------------------------------------------------------------------\n",
      "age         1.689e+04    943.195     17.909      0.000     1.5e+04    1.87e+04\n",
      "bmi        -5875.4123   1142.378     -5.143      0.000   -8117.340   -3633.484\n",
      "smoker      9.843e+05   3.07e+04     32.034      0.000    9.24e+05    1.04e+06\n",
      "==============================================================================\n",
      "Omnibus:                      138.957   Durbin-Watson:                   1.927\n",
      "Prob(Omnibus):                  0.000   Jarque-Bera (JB):              368.264\n",
      "Skew:                           0.776   Prob(JB):                     1.08e-80\n",
      "Kurtosis:                       5.652   Cond. No.                         111.\n",
      "==============================================================================\n",
      "\n",
      "Notes:\n",
      "[1] R² is computed without centering (uncentered) since the model does not contain a constant.\n",
      "[2] Standard Errors assume that the covariance matrix of the errors is correctly specified.\n"
     ]
    }
   ],
   "source": [
    "print(fitted_third_model.summary())"
   ]
  },
  {
   "cell_type": "markdown",
   "id": "controlled-flexibility",
   "metadata": {},
   "source": [
    "The normalisation has made all of the features significant. However, the adjusted r-squared value has decreased to .79. "
   ]
  },
  {
   "cell_type": "code",
   "execution_count": 54,
   "id": "sonic-violation",
   "metadata": {},
   "outputs": [],
   "source": [
    "third_predictions = fitted_third_model.predict(normalizer_test_set[['age','bmi','smoker']])"
   ]
  },
  {
   "cell_type": "code",
   "execution_count": 55,
   "id": "centered-status",
   "metadata": {},
   "outputs": [
    {
     "name": "stderr",
     "output_type": "stream",
     "text": [
      "C:\\Users\\darre\\Anaconda3\\lib\\site-packages\\matplotlib\\cbook\\__init__.py:1402: FutureWarning: Support for multi-dimensional indexing (e.g. `obj[:, None]`) is deprecated and will be removed in a future version.  Convert to a numpy array before indexing instead.\n",
      "  ndim = x[:, None].ndim\n",
      "C:\\Users\\darre\\Anaconda3\\lib\\site-packages\\matplotlib\\axes\\_base.py:276: FutureWarning: Support for multi-dimensional indexing (e.g. `obj[:, None]`) is deprecated and will be removed in a future version.  Convert to a numpy array before indexing instead.\n",
      "  x = x[:, np.newaxis]\n",
      "C:\\Users\\darre\\Anaconda3\\lib\\site-packages\\matplotlib\\axes\\_base.py:278: FutureWarning: Support for multi-dimensional indexing (e.g. `obj[:, None]`) is deprecated and will be removed in a future version.  Convert to a numpy array before indexing instead.\n",
      "  y = y[:, np.newaxis]\n"
     ]
    },
    {
     "data": {
      "text/plain": [
       "(0, 70000)"
      ]
     },
     "execution_count": 55,
     "metadata": {},
     "output_type": "execute_result"
    },
    {
     "data": {
      "image/png": "[encoded data removed]",
      "text/plain": [
       "<Figure size 432x288 with 1 Axes>"
      ]
     },
     "metadata": {},
     "output_type": "display_data"
    }
   ],
   "source": [
    "fig, ax = plt.subplots()\n",
    "ax.plot(third_predictions, y_test['charges'], \"o\", label = \"Data\")\n",
    "plt.xlim([0,70000])\n",
    "plt.ylim([0,70000])"
   ]
  },
  {
   "cell_type": "code",
   "execution_count": 56,
   "id": "cathedral-prompt",
   "metadata": {},
   "outputs": [
    {
     "name": "stdout",
     "output_type": "stream",
     "text": [
      "8262.622352293378\n",
      "8315.391368460248\n"
     ]
    }
   ],
   "source": [
    "print(sm.tools.eval_measures.rmse(y_test['charges'], third_predictions))\n",
    "print(np.sqrt(fitted_third_model.mse_resid))"
   ]
  },
  {
   "cell_type": "markdown",
   "id": "educational-modem",
   "metadata": {},
   "source": [
    "The normalisation of the same features which produced the best model did not yield an improved model. The RMSE is roughly $1500 more than the best model. \n",
    "\n",
    "The next model will use all the normalised features. "
   ]
  },
  {
   "cell_type": "markdown",
   "id": "rental-pattern",
   "metadata": {},
   "source": [
    "## All normalised features model"
   ]
  },
  {
   "cell_type": "code",
   "execution_count": 57,
   "id": "amateur-quantity",
   "metadata": {},
   "outputs": [],
   "source": [
    "### training and testing\n",
    "normalised_model = sm.OLS(y_train, normalizer_train_set)\n",
    "fitted_normalised_model = normalised_model.fit()"
   ]
  },
  {
   "cell_type": "code",
   "execution_count": 58,
   "id": "chinese-short",
   "metadata": {},
   "outputs": [
    {
     "name": "stdout",
     "output_type": "stream",
     "text": [
      "                                 OLS Regression Results                                \n",
      "=======================================================================================\n",
      "Dep. Variable:                charges   R-squared (uncentered):                   0.846\n",
      "Model:                            OLS   Adj. R-squared (uncentered):              0.844\n",
      "Method:                 Least Squares   F-statistic:                              565.4\n",
      "Date:                Sat, 16 Oct 2021   Prob (F-statistic):                        0.00\n",
      "Time:                        13:17:18   Log-Likelihood:                         -9632.4\n",
      "No. Observations:                 936   AIC:                                  1.928e+04\n",
      "Df Residuals:                     927   BIC:                                  1.933e+04\n",
      "Df Model:                           9                                                  \n",
      "Covariance Type:            nonrobust                                                  \n",
      "==============================================================================\n",
      "                 coef    std err          t      P>|t|      [0.025      0.975]\n",
      "------------------------------------------------------------------------------\n",
      "age         2.183e+04    870.430     25.077      0.000    2.01e+04    2.35e+04\n",
      "sex         2.264e+04    2.2e+04      1.031      0.303   -2.04e+04    6.57e+04\n",
      "bmi         2.191e+04   1882.736     11.636      0.000    1.82e+04    2.56e+04\n",
      "children    1.016e+04   9191.445      1.106      0.269   -7874.204    2.82e+04\n",
      "smoker      1.031e+06   2.67e+04     38.559      0.000    9.79e+05    1.08e+06\n",
      "northeast  -1.023e+06   5.97e+04    -17.144      0.000   -1.14e+06   -9.06e+05\n",
      "northwest  -1.036e+06   6.06e+04    -17.097      0.000   -1.15e+06   -9.17e+05\n",
      "southeast  -1.062e+06   6.65e+04    -15.973      0.000   -1.19e+06   -9.31e+05\n",
      "southwest  -1.063e+06   6.15e+04    -17.279      0.000   -1.18e+06   -9.43e+05\n",
      "==============================================================================\n",
      "Omnibus:                      158.434   Durbin-Watson:                   1.971\n",
      "Prob(Omnibus):                  0.000   Jarque-Bera (JB):              282.378\n",
      "Skew:                           1.035   Prob(JB):                     4.81e-62\n",
      "Kurtosis:                       4.720   Cond. No.                         496.\n",
      "==============================================================================\n",
      "\n",
      "Notes:\n",
      "[1] R² is computed without centering (uncentered) since the model does not contain a constant.\n",
      "[2] Standard Errors assume that the covariance matrix of the errors is correctly specified.\n"
     ]
    }
   ],
   "source": [
    "print(fitted_normalised_model.summary())"
   ]
  },
  {
   "cell_type": "code",
   "execution_count": 59,
   "id": "spoken-stability",
   "metadata": {},
   "outputs": [],
   "source": [
    "normalised_predictions = fitted_normalised_model.predict(normalizer_test_set)"
   ]
  },
  {
   "cell_type": "code",
   "execution_count": 60,
   "id": "conservative-immunology",
   "metadata": {},
   "outputs": [
    {
     "name": "stderr",
     "output_type": "stream",
     "text": [
      "C:\\Users\\darre\\Anaconda3\\lib\\site-packages\\matplotlib\\cbook\\__init__.py:1402: FutureWarning: Support for multi-dimensional indexing (e.g. `obj[:, None]`) is deprecated and will be removed in a future version.  Convert to a numpy array before indexing instead.\n",
      "  ndim = x[:, None].ndim\n",
      "C:\\Users\\darre\\Anaconda3\\lib\\site-packages\\matplotlib\\axes\\_base.py:276: FutureWarning: Support for multi-dimensional indexing (e.g. `obj[:, None]`) is deprecated and will be removed in a future version.  Convert to a numpy array before indexing instead.\n",
      "  x = x[:, np.newaxis]\n",
      "C:\\Users\\darre\\Anaconda3\\lib\\site-packages\\matplotlib\\axes\\_base.py:278: FutureWarning: Support for multi-dimensional indexing (e.g. `obj[:, None]`) is deprecated and will be removed in a future version.  Convert to a numpy array before indexing instead.\n",
      "  y = y[:, np.newaxis]\n"
     ]
    },
    {
     "data": {
      "text/plain": [
       "(0, 70000)"
      ]
     },
     "execution_count": 60,
     "metadata": {},
     "output_type": "execute_result"
    },
    {
     "data": {
      "image/png": "[encoded data removed]",
      "text/plain": [
       "<Figure size 432x288 with 1 Axes>"
      ]
     },
     "metadata": {},
     "output_type": "display_data"
    }
   ],
   "source": [
    "fig, ax = plt.subplots()\n",
    "ax.plot(normalised_predictions, y_test['charges'], \"o\", label = \"Data\")\n",
    "plt.xlim([0,70000])\n",
    "plt.ylim([0,70000])"
   ]
  },
  {
   "cell_type": "code",
   "execution_count": 61,
   "id": "exceptional-excuse",
   "metadata": {},
   "outputs": [
    {
     "name": "stdout",
     "output_type": "stream",
     "text": [
      "7160.664217575261\n",
      "7164.980957419713\n"
     ]
    }
   ],
   "source": [
    "print(sm.tools.eval_measures.rmse(y_test['charges'], normalised_predictions))\n",
    "print(np.sqrt(fitted_normalised_model.mse_resid))"
   ]
  },
  {
   "cell_type": "markdown",
   "id": "atomic-australian",
   "metadata": {},
   "source": [
    "### Excluding the non-significant features"
   ]
  },
  {
   "cell_type": "code",
   "execution_count": 62,
   "id": "minimal-convertible",
   "metadata": {},
   "outputs": [],
   "source": [
    "### training and testing\n",
    "normalised_model_v2 = sm.OLS(y_train, normalizer_train_set[['age','bmi','smoker','northeast','northwest','southeast','southwest']])\n",
    "fitted_normalised_model_v2 = normalised_model_v2.fit()"
   ]
  },
  {
   "cell_type": "code",
   "execution_count": 75,
   "id": "brave-thomas",
   "metadata": {
    "scrolled": true
   },
   "outputs": [
    {
     "name": "stdout",
     "output_type": "stream",
     "text": [
      "                                 OLS Regression Results                                \n",
      "=======================================================================================\n",
      "Dep. Variable:                charges   R-squared (uncentered):                   0.845\n",
      "Model:                            OLS   Adj. R-squared (uncentered):              0.844\n",
      "Method:                 Least Squares   F-statistic:                              726.3\n",
      "Date:                Sat, 16 Oct 2021   Prob (F-statistic):                        0.00\n",
      "Time:                        13:28:29   Log-Likelihood:                         -9633.7\n",
      "No. Observations:                 936   AIC:                                  1.928e+04\n",
      "Df Residuals:                     929   BIC:                                  1.932e+04\n",
      "Df Model:                           7                                                  \n",
      "Covariance Type:            nonrobust                                                  \n",
      "==============================================================================\n",
      "                 coef    std err          t      P>|t|      [0.025      0.975]\n",
      "------------------------------------------------------------------------------\n",
      "age         2.191e+04    860.823     25.457      0.000    2.02e+04    2.36e+04\n",
      "bmi         2.198e+04   1879.858     11.693      0.000    1.83e+04    2.57e+04\n",
      "smoker      1.033e+06   2.67e+04     38.718      0.000    9.81e+05    1.09e+06\n",
      "northeast  -1.006e+06   5.87e+04    -17.153      0.000   -1.12e+06   -8.91e+05\n",
      "northwest  -1.018e+06   5.95e+04    -17.108      0.000   -1.14e+06   -9.02e+05\n",
      "southeast  -1.046e+06   6.56e+04    -15.942      0.000   -1.17e+06   -9.17e+05\n",
      "southwest  -1.046e+06   6.05e+04    -17.294      0.000   -1.16e+06   -9.27e+05\n",
      "==============================================================================\n",
      "Omnibus:                      159.741   Durbin-Watson:                   1.977\n",
      "Prob(Omnibus):                  0.000   Jarque-Bera (JB):              285.535\n",
      "Skew:                           1.041   Prob(JB):                     9.93e-63\n",
      "Kurtosis:                       4.728   Cond. No.                         487.\n",
      "==============================================================================\n",
      "\n",
      "Notes:\n",
      "[1] R² is computed without centering (uncentered) since the model does not contain a constant.\n",
      "[2] Standard Errors assume that the covariance matrix of the errors is correctly specified.\n"
     ]
    }
   ],
   "source": [
    "print(fitted_normalised_model_v2.summary())"
   ]
  },
  {
   "cell_type": "code",
   "execution_count": 64,
   "id": "north-contractor",
   "metadata": {},
   "outputs": [],
   "source": [
    "normalised_predictions_V2 = fitted_normalised_model_v2.predict(normalizer_test_set[['age','bmi','smoker','northeast','northwest','southeast','southwest']])"
   ]
  },
  {
   "cell_type": "code",
   "execution_count": 65,
   "id": "silent-ozone",
   "metadata": {},
   "outputs": [
    {
     "name": "stderr",
     "output_type": "stream",
     "text": [
      "C:\\Users\\darre\\Anaconda3\\lib\\site-packages\\matplotlib\\cbook\\__init__.py:1402: FutureWarning: Support for multi-dimensional indexing (e.g. `obj[:, None]`) is deprecated and will be removed in a future version.  Convert to a numpy array before indexing instead.\n",
      "  ndim = x[:, None].ndim\n",
      "C:\\Users\\darre\\Anaconda3\\lib\\site-packages\\matplotlib\\axes\\_base.py:276: FutureWarning: Support for multi-dimensional indexing (e.g. `obj[:, None]`) is deprecated and will be removed in a future version.  Convert to a numpy array before indexing instead.\n",
      "  x = x[:, np.newaxis]\n",
      "C:\\Users\\darre\\Anaconda3\\lib\\site-packages\\matplotlib\\axes\\_base.py:278: FutureWarning: Support for multi-dimensional indexing (e.g. `obj[:, None]`) is deprecated and will be removed in a future version.  Convert to a numpy array before indexing instead.\n",
      "  y = y[:, np.newaxis]\n"
     ]
    },
    {
     "data": {
      "text/plain": [
       "(0, 70000)"
      ]
     },
     "execution_count": 65,
     "metadata": {},
     "output_type": "execute_result"
    },
    {
     "data": {
      "image/png": "[encoded data removed]",
      "text/plain": [
       "<Figure size 432x288 with 1 Axes>"
      ]
     },
     "metadata": {},
     "output_type": "display_data"
    }
   ],
   "source": [
    "fig, ax = plt.subplots()\n",
    "ax.plot(normalised_predictions_V2, y_test['charges'], \"o\", label = \"Data\")\n",
    "plt.xlim([0,70000])\n",
    "plt.ylim([0,70000])"
   ]
  },
  {
   "cell_type": "code",
   "execution_count": 66,
   "id": "superior-mongolia",
   "metadata": {},
   "outputs": [
    {
     "name": "stdout",
     "output_type": "stream",
     "text": [
      "7163.022507798844\n",
      "7166.567404296226\n"
     ]
    }
   ],
   "source": [
    "print(sm.tools.eval_measures.rmse(y_test['charges'], normalised_predictions_V2))\n",
    "print(np.sqrt(fitted_normalised_model_v2.mse_resid))"
   ]
  },
  {
   "cell_type": "markdown",
   "id": "understood-washington",
   "metadata": {},
   "source": [
    "### Using other forms of regression: lasso, ridge, and polynomial\n",
    "Ridge regression is a regularized version of LR. In this instance it adds a regularization term to the cost function. The aim of this is to force the model to keep the weights as small as possible when fitting the data. The regularization term is only added to the cost function during train. \n",
    "\n",
    "As the standard data seemed to perform best I will focus on using only that dataset. "
   ]
  },
  {
   "cell_type": "code",
   "execution_count": 80,
   "id": "dependent-revolution",
   "metadata": {},
   "outputs": [],
   "source": [
    "### training and testing\n",
    "simple_ridge_model = sm.OLS(y_train, X_train)\n",
    "fitted_simple_ridge_model = simple_ridge_model.fit_regularized(alpha=0.5)"
   ]
  },
  {
   "cell_type": "code",
   "execution_count": 83,
   "id": "australian-windows",
   "metadata": {},
   "outputs": [
    {
     "name": "stdout",
     "output_type": "stream",
     "text": [
      "age            264.902834\n",
      "sex            151.415234\n",
      "bmi            287.213897\n",
      "children       470.890822\n",
      "smoker       23974.020212\n",
      "northeast   -10897.243601\n",
      "northwest   -11298.309346\n",
      "southeast   -11825.814519\n",
      "southwest   -11912.458308\n",
      "dtype: float64\n"
     ]
    }
   ],
   "source": [
    "print(fitted_simple_ridge_model.params)"
   ]
  },
  {
   "cell_type": "code",
   "execution_count": 84,
   "id": "above-leisure",
   "metadata": {},
   "outputs": [],
   "source": [
    "ridge_predictions = fitted_simple_ridge_model.predict(X_test)"
   ]
  },
  {
   "cell_type": "code",
   "execution_count": 85,
   "id": "operating-equipment",
   "metadata": {},
   "outputs": [
    {
     "data": {
      "text/plain": [
       "(0, 70000)"
      ]
     },
     "execution_count": 85,
     "metadata": {},
     "output_type": "execute_result"
    },
    {
     "data": {
      "image/png": "[encoded data removed]",
      "text/plain": [
       "<Figure size 432x288 with 1 Axes>"
      ]
     },
     "metadata": {},
     "output_type": "display_data"
    }
   ],
   "source": [
    "fig, ax = plt.subplots()\n",
    "ax.plot(ridge_predictions, y_test['charges'], \"o\", label = \"Data\")\n",
    "plt.xlim([0,70000])\n",
    "plt.ylim([0,70000])"
   ]
  },
  {
   "cell_type": "code",
   "execution_count": 87,
   "id": "rising-thompson",
   "metadata": {},
   "outputs": [
    {
     "name": "stdout",
     "output_type": "stream",
     "text": [
      "6338.42124150841\n"
     ]
    }
   ],
   "source": [
    "print(sm.tools.eval_measures.rmse(y_test['charges'], ridge_predictions))"
   ]
  },
  {
   "cell_type": "markdown",
   "id": "brown-induction",
   "metadata": {},
   "source": [
    "#### Lasso regression\n",
    "Lasso regression, aka Least Absolute Shrinkage and Selection and Operator Regression, is another linear regression method which uses regularization on the cost function. Instead of using the L2 norm, its uses the L1 norm of the weight vector instead of half teh square of the l2 norm. "
   ]
  },
  {
   "cell_type": "code",
   "execution_count": 91,
   "id": "blond-story",
   "metadata": {},
   "outputs": [],
   "source": [
    "### training and testing\n",
    "simple_lasso_model = sm.OLS(y_train, X_train)\n",
    "fitted_simple_lasso_model = simple_lasso_model.fit_regularized(method = 'sqrt_lasso')"
   ]
  },
  {
   "cell_type": "code",
   "execution_count": 92,
   "id": "strong-facial",
   "metadata": {},
   "outputs": [
    {
     "name": "stdout",
     "output_type": "stream",
     "text": [
      "age            262.190209\n",
      "sex            113.799890\n",
      "bmi            316.022846\n",
      "children       496.646006\n",
      "smoker       24031.127817\n",
      "northeast   -11664.626112\n",
      "northwest   -12059.260204\n",
      "southeast   -12706.045556\n",
      "southwest   -12709.232083\n",
      "dtype: float64\n"
     ]
    }
   ],
   "source": [
    "print(fitted_simple_lasso_model.params)"
   ]
  },
  {
   "cell_type": "code",
   "execution_count": 93,
   "id": "legitimate-candy",
   "metadata": {},
   "outputs": [],
   "source": [
    "lasso_predictions = fitted_simple_lasso_model.predict(X_test)"
   ]
  },
  {
   "cell_type": "code",
   "execution_count": 94,
   "id": "soviet-community",
   "metadata": {},
   "outputs": [
    {
     "data": {
      "text/plain": [
       "(0, 70000)"
      ]
     },
     "execution_count": 94,
     "metadata": {},
     "output_type": "execute_result"
    },
    {
     "data": {
      "image/png": "[encoded data removed]",
      "text/plain": [
       "<Figure size 432x288 with 1 Axes>"
      ]
     },
     "metadata": {
      "needs_background": "light"
     },
     "output_type": "display_data"
    }
   ],
   "source": [
    "fig, ax = plt.subplots()\n",
    "ax.plot(lasso_predictions, y_test['charges'], \"o\", label = \"Data\")\n",
    "plt.xlim([0,70000])\n",
    "plt.ylim([0,70000])"
   ]
  },
  {
   "cell_type": "code",
   "execution_count": 95,
   "id": "specific-flush",
   "metadata": {},
   "outputs": [
    {
     "name": "stdout",
     "output_type": "stream",
     "text": [
      "6324.691438644852\n"
     ]
    }
   ],
   "source": [
    "print(sm.tools.eval_measures.rmse(y_test['charges'], lasso_predictions))"
   ]
  },
  {
   "cell_type": "markdown",
   "id": "informational-energy",
   "metadata": {},
   "source": [
    "#### Polynomial regression model\n",
    "The charges belonging to smokers prevent a clear linear pattern from appearing, but instead ensure that the data has two demonstrably unique patterns. One way to potentially deal with this is to use polynomial regression. This involves generating a new feature matrix consisting of all polynomial combinations of the features with degree less than or equal to the specified degree, in this case two."
   ]
  },
  {
   "cell_type": "code",
   "execution_count": 131,
   "id": "technological-oxygen",
   "metadata": {},
   "outputs": [],
   "source": [
    "## polynomial transformation - using np\n",
    "from sklearn.preprocessing import PolynomialFeatures\n",
    "polynomial_features = PolynomialFeatures(degree = 2)\n",
    "X_train_poly = polynomial_features.fit_transform(X_train)\n",
    "X_test_poly = polynomial_features.fit_transform(X_test)"
   ]
  },
  {
   "cell_type": "code",
   "execution_count": 132,
   "id": "average-agriculture",
   "metadata": {},
   "outputs": [],
   "source": [
    "### training and testing\n",
    "simple_poly_model = sm.OLS(y_train, X_train_poly)\n",
    "fitted_simple_poly_model = simple_poly_model.fit()"
   ]
  },
  {
   "cell_type": "code",
   "execution_count": 133,
   "id": "apparent-script",
   "metadata": {},
   "outputs": [
    {
     "name": "stdout",
     "output_type": "stream",
     "text": [
      "                            OLS Regression Results                            \n",
      "==============================================================================\n",
      "Dep. Variable:                charges   R-squared:                       0.862\n",
      "Model:                            OLS   Adj. R-squared:                  0.857\n",
      "Method:                 Least Squares   F-statistic:                     156.0\n",
      "Date:                Sat, 16 Oct 2021   Prob (F-statistic):               0.00\n",
      "Time:                        14:50:26   Log-Likelihood:                -9208.9\n",
      "No. Observations:                 936   AIC:                         1.849e+04\n",
      "Df Residuals:                     899   BIC:                         1.867e+04\n",
      "Df Model:                          36                                         \n",
      "Covariance Type:            nonrobust                                         \n",
      "==============================================================================\n",
      "                 coef    std err          t      P>|t|      [0.025      0.975]\n",
      "------------------------------------------------------------------------------\n",
      "const        -25.6342   2669.121     -0.010      0.992   -5264.068    5212.800\n",
      "x1           -93.5653     73.301     -1.276      0.202    -237.427      50.296\n",
      "x2          -451.4886    792.561     -0.570      0.569   -2006.973    1103.996\n",
      "x3           210.8064    172.827      1.220      0.223    -128.385     549.998\n",
      "x4          1255.4121    680.916      1.844      0.066     -80.958    2591.782\n",
      "x5         -9280.9255    972.094     -9.547      0.000   -1.12e+04   -7373.087\n",
      "x6           339.5375    927.928      0.366      0.715   -1481.620    2160.694\n",
      "x7          -701.6180    995.167     -0.705      0.481   -2654.739    1251.503\n",
      "x8           722.5929   1238.572      0.583      0.560   -1708.237    3153.423\n",
      "x9          -386.1465   1005.165     -0.384      0.701   -2358.889    1586.596\n",
      "x10            4.5215      0.976      4.635      0.000       2.607       6.436\n",
      "x11           20.2974     22.656      0.896      0.371     -24.167      64.762\n",
      "x12            0.4929      1.889      0.261      0.794      -3.214       4.200\n",
      "x13           -7.1052     10.149     -0.700      0.484     -27.023      12.813\n",
      "x14          -10.8449     27.271     -0.398      0.691     -64.367      42.677\n",
      "x15          -46.3556     26.615     -1.742      0.082     -98.591       5.879\n",
      "x16          -35.1581     26.042     -1.350      0.177     -86.269      15.953\n",
      "x17           -1.2317     28.397     -0.043      0.965     -56.964      54.500\n",
      "x18          -10.8199     27.123     -0.399      0.690     -64.051      42.411\n",
      "x19         -451.4886    792.561     -0.570      0.569   -2006.973    1103.996\n",
      "x20            0.2133     52.906      0.004      0.997    -103.621     104.048\n",
      "x21         -178.7579    258.919     -0.690      0.490    -686.913     329.397\n",
      "x22         -165.4614    792.677     -0.209      0.835   -1721.175    1390.252\n",
      "x23          201.4847    578.434      0.348      0.728    -933.753    1336.722\n",
      "x24         -322.4958    554.351     -0.582      0.561   -1410.468     765.477\n",
      "x25          -93.2729    612.422     -0.152      0.879   -1295.216    1108.670\n",
      "x26         -237.2046    568.003     -0.418      0.676   -1351.972     877.562\n",
      "x27           -4.3770      3.333     -1.313      0.189     -10.919       2.165\n",
      "x28           -1.8936     21.990     -0.086      0.931     -45.052      41.265\n",
      "x29         1485.1095     65.346     22.727      0.000    1356.862    1613.357\n",
      "x30           70.7299     59.303      1.193      0.233     -45.658     187.118\n",
      "x31          113.7282     59.793      1.902      0.057      -3.622     231.078\n",
      "x32          -18.2782     74.934     -0.244      0.807    -165.345     128.788\n",
      "x33           44.6264     63.782      0.700      0.484     -80.553     169.806\n",
      "x34         -121.2674     97.516     -1.244      0.214    -312.653      70.118\n",
      "x35         -159.1970    332.624     -0.479      0.632    -812.007     493.613\n",
      "x36          530.2089    275.262      1.926      0.054     -10.022    1070.440\n",
      "x37          474.9916    266.689      1.781      0.075     -48.415     998.398\n",
      "x38          159.8195    318.387      0.502      0.616    -465.048     784.687\n",
      "x39           90.3921    268.871      0.336      0.737    -437.296     618.080\n",
      "x40        -9280.9255    972.094     -9.547      0.000   -1.12e+04   -7373.087\n",
      "x41        -2162.9378    706.448     -3.062      0.002   -3549.417    -776.459\n",
      "x42        -2106.7457    713.109     -2.954      0.003   -3506.298    -707.194\n",
      "x43        -3965.0374    728.523     -5.443      0.000   -5394.842   -2535.233\n",
      "x44        -1046.2046    726.436     -1.440      0.150   -2471.913     379.504\n",
      "x45          339.5375    927.928      0.366      0.715   -1481.620    2160.694\n",
      "x46                 0          0        nan        nan           0           0\n",
      "x47                 0          0        nan        nan           0           0\n",
      "x48                 0          0        nan        nan           0           0\n",
      "x49         -701.6180    995.167     -0.705      0.481   -2654.739    1251.503\n",
      "x50                 0          0        nan        nan           0           0\n",
      "x51                 0          0        nan        nan           0           0\n",
      "x52          722.5929   1238.572      0.583      0.560   -1708.237    3153.423\n",
      "x53                 0          0        nan        nan           0           0\n",
      "x54         -386.1465   1005.165     -0.384      0.701   -2358.889    1586.596\n",
      "==============================================================================\n",
      "Omnibus:                      514.392   Durbin-Watson:                   2.073\n",
      "Prob(Omnibus):                  0.000   Jarque-Bera (JB):             3214.679\n",
      "Skew:                           2.540   Prob(JB):                         0.00\n",
      "Kurtosis:                      10.525   Cond. No.                     1.11e+16\n",
      "==============================================================================\n",
      "\n",
      "Notes:\n",
      "[1] Standard Errors assume that the covariance matrix of the errors is correctly specified.\n",
      "[2] The smallest eigenvalue is 5.16e-23. This might indicate that there are\n",
      "strong multicollinearity problems or that the design matrix is singular.\n"
     ]
    }
   ],
   "source": [
    "print(fitted_simple_poly_model.summary())"
   ]
  },
  {
   "cell_type": "code",
   "execution_count": 134,
   "id": "accessory-paragraph",
   "metadata": {},
   "outputs": [],
   "source": [
    "poly_predictions = fitted_simple_poly_model.predict(X_test_poly)"
   ]
  },
  {
   "cell_type": "code",
   "execution_count": 135,
   "id": "printable-lesbian",
   "metadata": {},
   "outputs": [
    {
     "name": "stderr",
     "output_type": "stream",
     "text": [
      "C:\\Users\\darre\\Anaconda3\\lib\\site-packages\\matplotlib\\cbook\\__init__.py:1402: FutureWarning: Support for multi-dimensional indexing (e.g. `obj[:, None]`) is deprecated and will be removed in a future version.  Convert to a numpy array before indexing instead.\n",
      "  ndim = x[:, None].ndim\n",
      "C:\\Users\\darre\\Anaconda3\\lib\\site-packages\\matplotlib\\axes\\_base.py:278: FutureWarning: Support for multi-dimensional indexing (e.g. `obj[:, None]`) is deprecated and will be removed in a future version.  Convert to a numpy array before indexing instead.\n",
      "  y = y[:, np.newaxis]\n"
     ]
    },
    {
     "data": {
      "text/plain": [
       "(0, 70000)"
      ]
     },
     "execution_count": 135,
     "metadata": {},
     "output_type": "execute_result"
    },
    {
     "data": {
      "image/png": "[encoded data removed]",
      "text/plain": [
       "<Figure size 432x288 with 1 Axes>"
      ]
     },
     "metadata": {
      "needs_background": "light"
     },
     "output_type": "display_data"
    }
   ],
   "source": [
    "fig, ax = plt.subplots()\n",
    "ax.plot(poly_predictions, y_test['charges'], \"o\", label = \"Data\")\n",
    "plt.xlim([0,70000])\n",
    "plt.ylim([0,70000])"
   ]
  },
  {
   "cell_type": "code",
   "execution_count": 136,
   "id": "helpful-linux",
   "metadata": {},
   "outputs": [
    {
     "name": "stdout",
     "output_type": "stream",
     "text": [
      "5186.915699115621\n",
      "4627.447319894088\n"
     ]
    }
   ],
   "source": [
    "print(sm.tools.eval_measures.rmse(y_test['charges'], poly_predictions))\n",
    "print(np.sqrt(fitted_simple_poly_model.mse_resid))"
   ]
  },
  {
   "cell_type": "markdown",
   "id": "found-officer",
   "metadata": {},
   "source": [
    "The polynomial model has performed slightly better than the base model, but its created lots of redundant features. Using feature selection I explore whether it can be improved. "
   ]
  },
  {
   "cell_type": "code",
   "execution_count": 195,
   "id": "regional-brazil",
   "metadata": {},
   "outputs": [
    {
     "name": "stderr",
     "output_type": "stream",
     "text": [
      "C:\\Users\\darre\\Anaconda3\\lib\\site-packages\\sklearn\\utils\\validation.py:63: DataConversionWarning: A column-vector y was passed when a 1d array was expected. Please change the shape of y to (n_samples, ), for example using ravel().\n",
      "  return f(*args, **kwargs)\n",
      "C:\\Users\\darre\\Anaconda3\\lib\\site-packages\\sklearn\\feature_selection\\_univariate_selection.py:302: RuntimeWarning: divide by zero encountered in true_divide\n",
      "  corr /= X_norms\n",
      "C:\\Users\\darre\\Anaconda3\\lib\\site-packages\\sklearn\\feature_selection\\_univariate_selection.py:302: RuntimeWarning: invalid value encountered in true_divide\n",
      "  corr /= X_norms\n",
      "C:\\Users\\darre\\Anaconda3\\lib\\site-packages\\sklearn\\feature_selection\\_univariate_selection.py:307: RuntimeWarning: invalid value encountered in true_divide\n",
      "  F = corr ** 2 / (1 - corr ** 2) * degrees_of_freedom\n"
     ]
    }
   ],
   "source": [
    "from sklearn.feature_selection import SelectKBest, f_regression\n",
    "# configure to select all features\n",
    "fs = SelectKBest(score_func=f_regression, k='all')\n",
    "# learn relationship from training data\n",
    "fs.fit(X_train_poly, y_train)"
   ]
  },
  {
   "cell_type": "code",
   "execution_count": 251,
   "id": "northern-mustang",
   "metadata": {},
   "outputs": [],
   "source": [
    "sig_features_to_test = []\n",
    "for i in range(len(fs.scores_)):\n",
    "     if fs.scores_[i] >= 10:\n",
    "            sig_features_to_test.append(i)"
   ]
  },
  {
   "cell_type": "code",
   "execution_count": 252,
   "id": "entertaining-fashion",
   "metadata": {},
   "outputs": [],
   "source": [
    "### model building\n",
    "### training and testing\n",
    "poly_model2 = sm.OLS(np.array(y_train), np.array(pd.DataFrame(X_train_poly)[sig_features_to_test]))\n",
    "fitted_poly_model2 = poly_model2.fit()"
   ]
  },
  {
   "cell_type": "code",
   "execution_count": 253,
   "id": "exterior-immune",
   "metadata": {},
   "outputs": [
    {
     "name": "stdout",
     "output_type": "stream",
     "text": [
      "                                 OLS Regression Results                                \n",
      "=======================================================================================\n",
      "Dep. Variable:                      y   R-squared (uncentered):                   0.936\n",
      "Model:                            OLS   Adj. R-squared (uncentered):              0.935\n",
      "Method:                 Least Squares   F-statistic:                              746.8\n",
      "Date:                Mon, 18 Oct 2021   Prob (F-statistic):                        0.00\n",
      "Time:                        16:27:43   Log-Likelihood:                         -9220.7\n",
      "No. Observations:                 936   AIC:                                  1.848e+04\n",
      "Df Residuals:                     918   BIC:                                  1.856e+04\n",
      "Df Model:                          18                                                  \n",
      "Covariance Type:            nonrobust                                                  \n",
      "==============================================================================\n",
      "                 coef    std err          t      P>|t|      [0.025      0.975]\n",
      "------------------------------------------------------------------------------\n",
      "x1          -106.5748     76.534     -1.393      0.164    -256.776      43.626\n",
      "x2           289.3809     93.288      3.102      0.002     106.299     472.463\n",
      "x3         -9351.0265    935.875     -9.992      0.000   -1.12e+04   -7514.324\n",
      "x4             4.0167      0.915      4.388      0.000       2.220       5.813\n",
      "x5            10.0202     20.658      0.485      0.628     -30.522      50.563\n",
      "x6             0.7471      1.675      0.446      0.656      -2.541       4.035\n",
      "x7            14.6116      3.405      4.291      0.000       7.929      21.294\n",
      "x8            -7.7144     27.134     -0.284      0.776     -60.967      45.538\n",
      "x9            36.9200     23.753      1.554      0.120      -9.697      83.537\n",
      "x10          -23.7943     27.775     -0.857      0.392     -78.304      30.716\n",
      "x11         -254.6046    775.958     -0.328      0.743   -1777.462    1268.253\n",
      "x12           -4.7579      2.214     -2.149      0.032      -9.102      -0.413\n",
      "x13         1482.8717     62.756     23.629      0.000    1359.709    1606.034\n",
      "x14          -49.9922     30.988     -1.613      0.107    -110.807      10.823\n",
      "x15           31.2337    317.556      0.098      0.922    -591.987     654.454\n",
      "x16        -9351.0265    935.875     -9.992      0.000   -1.12e+04   -7514.324\n",
      "x17        -1374.5298    634.739     -2.166      0.031   -2620.238    -128.822\n",
      "x18        -2122.8085    658.367     -3.224      0.001   -3414.887    -830.730\n",
      "x19        -3866.6345    700.545     -5.519      0.000   -5241.491   -2491.778\n",
      "x20        -1987.0537    657.015     -3.024      0.003   -3276.480    -697.627\n",
      "==============================================================================\n",
      "Omnibus:                      524.319   Durbin-Watson:                   2.091\n",
      "Prob(Omnibus):                  0.000   Jarque-Bera (JB):             3379.729\n",
      "Skew:                           2.589   Prob(JB):                         0.00\n",
      "Kurtosis:                      10.736   Cond. No.                     3.75e+19\n",
      "==============================================================================\n",
      "\n",
      "Notes:\n",
      "[1] R² is computed without centering (uncentered) since the model does not contain a constant.\n",
      "[2] Standard Errors assume that the covariance matrix of the errors is correctly specified.\n",
      "[3] The smallest eigenvalue is 4.52e-30. This might indicate that there are\n",
      "strong multicollinearity problems or that the design matrix is singular.\n"
     ]
    }
   ],
   "source": [
    "print(fitted_poly_model2.summary())"
   ]
  },
  {
   "cell_type": "code",
   "execution_count": 254,
   "id": "turkish-productivity",
   "metadata": {},
   "outputs": [],
   "source": [
    "poly_predictions2 = fitted_poly_model2.predict(np.array(pd.DataFrame(X_test_poly)[sig_features_to_test]))"
   ]
  },
  {
   "cell_type": "code",
   "execution_count": 255,
   "id": "announced-slovak",
   "metadata": {},
   "outputs": [
    {
     "name": "stderr",
     "output_type": "stream",
     "text": [
      "C:\\Users\\darre\\Anaconda3\\lib\\site-packages\\matplotlib\\cbook\\__init__.py:1402: FutureWarning: Support for multi-dimensional indexing (e.g. `obj[:, None]`) is deprecated and will be removed in a future version.  Convert to a numpy array before indexing instead.\n",
      "  ndim = x[:, None].ndim\n",
      "C:\\Users\\darre\\Anaconda3\\lib\\site-packages\\matplotlib\\axes\\_base.py:278: FutureWarning: Support for multi-dimensional indexing (e.g. `obj[:, None]`) is deprecated and will be removed in a future version.  Convert to a numpy array before indexing instead.\n",
      "  y = y[:, np.newaxis]\n"
     ]
    },
    {
     "data": {
      "text/plain": [
       "(0, 70000)"
      ]
     },
     "execution_count": 255,
     "metadata": {},
     "output_type": "execute_result"
    },
    {
     "data": {
      "image/png": "[encoded data removed]",
      "text/plain": [
       "<Figure size 432x288 with 1 Axes>"
      ]
     },
     "metadata": {
      "needs_background": "light"
     },
     "output_type": "display_data"
    }
   ],
   "source": [
    "fig, ax = plt.subplots()\n",
    "ax.plot(poly_predictions2, y_test['charges'], \"o\", label = \"Data\")\n",
    "plt.xlim([0,70000])\n",
    "plt.ylim([0,70000])"
   ]
  },
  {
   "cell_type": "code",
   "execution_count": 256,
   "id": "linear-effort",
   "metadata": {},
   "outputs": [
    {
     "name": "stdout",
     "output_type": "stream",
     "text": [
      "5218.937395069773\n",
      "4637.356161852974\n"
     ]
    }
   ],
   "source": [
    "print(sm.tools.eval_measures.rmse(y_test['charges'], poly_predictions2))\n",
    "print(np.sqrt(fitted_poly_model2.mse_resid))"
   ]
  },
  {
   "cell_type": "markdown",
   "id": "involved-compact",
   "metadata": {},
   "source": [
    "The reduced features polynomial model is slightly worse than the polynomial model with all features. However, it contains less than half the number of features and only comprimises on RMSE marginally. Depending on the preference for a less complex model compared to a model with a better RMSE we are left with two good models to predict the charges for health insurance. "
   ]
  },
  {
   "cell_type": "code",
   "execution_count": null,
   "id": "heavy-local",
   "metadata": {},
   "outputs": [],
   "source": []
  }
 ],
 "metadata": {
  "kernelspec": {
   "display_name": "Python 3.7.6 64-bit ('base': conda)",
   "language": "python",
   "name": "python37664bitbaseconda8d886d9de6f44110b9325276bac51a2f"
  },
  "language_info": {
   "codemirror_mode": {
    "name": "ipython",
    "version": 3
   },
   "file_extension": ".py",
   "mimetype": "text/x-python",
   "name": "python",
   "nbconvert_exporter": "python",
   "pygments_lexer": "ipython3",
   "version": "3.7.9"
  }
 },
 "nbformat": 4,
 "nbformat_minor": 5
}
